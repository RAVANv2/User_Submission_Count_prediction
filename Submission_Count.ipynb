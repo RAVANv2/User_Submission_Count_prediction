{
 "cells": [
  {
   "cell_type": "code",
   "execution_count": 1,
   "metadata": {},
   "outputs": [],
   "source": [
    "import pandas as pd\n",
    "import numpy as np"
   ]
  },
  {
   "cell_type": "code",
   "execution_count": 2,
   "metadata": {},
   "outputs": [],
   "source": [
    "df1 = pd.read_csv(\"problem_data.csv\")\n",
    "df2 = pd.read_csv(\"train_submissions.csv\")\n",
    "df3 = pd.read_csv(\"user_data.csv\")"
   ]
  },
  {
   "cell_type": "code",
   "execution_count": 3,
   "metadata": {},
   "outputs": [
    {
     "data": {
      "text/html": "<div>\n<style scoped>\n    .dataframe tbody tr th:only-of-type {\n        vertical-align: middle;\n    }\n\n    .dataframe tbody tr th {\n        vertical-align: top;\n    }\n\n    .dataframe thead th {\n        text-align: right;\n    }\n</style>\n<table border=\"1\" class=\"dataframe\">\n  <thead>\n    <tr style=\"text-align: right;\">\n      <th></th>\n      <th>problem_id</th>\n      <th>level_type</th>\n      <th>points</th>\n      <th>tags</th>\n    </tr>\n  </thead>\n  <tbody>\n    <tr>\n      <td>0</td>\n      <td>prob_3649</td>\n      <td>H</td>\n      <td>NaN</td>\n      <td>NaN</td>\n    </tr>\n    <tr>\n      <td>1</td>\n      <td>prob_6191</td>\n      <td>A</td>\n      <td>NaN</td>\n      <td>NaN</td>\n    </tr>\n    <tr>\n      <td>2</td>\n      <td>prob_2020</td>\n      <td>F</td>\n      <td>NaN</td>\n      <td>NaN</td>\n    </tr>\n    <tr>\n      <td>3</td>\n      <td>prob_313</td>\n      <td>A</td>\n      <td>500.0</td>\n      <td>greedy,implementation</td>\n    </tr>\n    <tr>\n      <td>4</td>\n      <td>prob_101</td>\n      <td>A</td>\n      <td>500.0</td>\n      <td>constructive algorithms,greedy,math</td>\n    </tr>\n  </tbody>\n</table>\n</div>",
      "text/plain": "  problem_id level_type  points                                 tags\n0  prob_3649          H     NaN                                  NaN\n1  prob_6191          A     NaN                                  NaN\n2  prob_2020          F     NaN                                  NaN\n3   prob_313          A   500.0                greedy,implementation\n4   prob_101          A   500.0  constructive algorithms,greedy,math"
     },
     "execution_count": 3,
     "metadata": {},
     "output_type": "execute_result"
    }
   ],
   "source": [
    "df1.head()"
   ]
  },
  {
   "cell_type": "code",
   "execution_count": 4,
   "metadata": {},
   "outputs": [
    {
     "data": {
      "text/plain": "6544"
     },
     "execution_count": 4,
     "metadata": {},
     "output_type": "execute_result"
    }
   ],
   "source": [
    "df1.problem_id.nunique()"
   ]
  },
  {
   "cell_type": "code",
   "execution_count": 5,
   "metadata": {},
   "outputs": [
    {
     "data": {
      "text/html": "<div>\n<style scoped>\n    .dataframe tbody tr th:only-of-type {\n        vertical-align: middle;\n    }\n\n    .dataframe tbody tr th {\n        vertical-align: top;\n    }\n\n    .dataframe thead th {\n        text-align: right;\n    }\n</style>\n<table border=\"1\" class=\"dataframe\">\n  <thead>\n    <tr style=\"text-align: right;\">\n      <th></th>\n      <th>user_id</th>\n      <th>problem_id</th>\n      <th>attempts_range</th>\n    </tr>\n  </thead>\n  <tbody>\n    <tr>\n      <td>0</td>\n      <td>user_232</td>\n      <td>prob_6507</td>\n      <td>1</td>\n    </tr>\n    <tr>\n      <td>1</td>\n      <td>user_3568</td>\n      <td>prob_2994</td>\n      <td>3</td>\n    </tr>\n    <tr>\n      <td>2</td>\n      <td>user_1600</td>\n      <td>prob_5071</td>\n      <td>1</td>\n    </tr>\n    <tr>\n      <td>3</td>\n      <td>user_2256</td>\n      <td>prob_703</td>\n      <td>1</td>\n    </tr>\n    <tr>\n      <td>4</td>\n      <td>user_2321</td>\n      <td>prob_356</td>\n      <td>1</td>\n    </tr>\n  </tbody>\n</table>\n</div>",
      "text/plain": "     user_id problem_id  attempts_range\n0   user_232  prob_6507               1\n1  user_3568  prob_2994               3\n2  user_1600  prob_5071               1\n3  user_2256   prob_703               1\n4  user_2321   prob_356               1"
     },
     "execution_count": 5,
     "metadata": {},
     "output_type": "execute_result"
    }
   ],
   "source": [
    "df2.head()"
   ]
  },
  {
   "cell_type": "code",
   "execution_count": 6,
   "metadata": {},
   "outputs": [
    {
     "data": {
      "text/plain": "5776"
     },
     "execution_count": 6,
     "metadata": {},
     "output_type": "execute_result"
    }
   ],
   "source": [
    "df2.problem_id.nunique()"
   ]
  },
  {
   "cell_type": "code",
   "execution_count": 7,
   "metadata": {},
   "outputs": [
    {
     "data": {
      "text/html": "<div>\n<style scoped>\n    .dataframe tbody tr th:only-of-type {\n        vertical-align: middle;\n    }\n\n    .dataframe tbody tr th {\n        vertical-align: top;\n    }\n\n    .dataframe thead th {\n        text-align: right;\n    }\n</style>\n<table border=\"1\" class=\"dataframe\">\n  <thead>\n    <tr style=\"text-align: right;\">\n      <th></th>\n      <th>user_id</th>\n      <th>submission_count</th>\n      <th>problem_solved</th>\n      <th>contribution</th>\n      <th>country</th>\n      <th>follower_count</th>\n      <th>last_online_time_seconds</th>\n      <th>max_rating</th>\n      <th>rating</th>\n      <th>rank</th>\n      <th>registration_time_seconds</th>\n    </tr>\n  </thead>\n  <tbody>\n    <tr>\n      <td>0</td>\n      <td>user_3311</td>\n      <td>47</td>\n      <td>40</td>\n      <td>0</td>\n      <td>NaN</td>\n      <td>4</td>\n      <td>1504111645</td>\n      <td>348.337</td>\n      <td>330.849</td>\n      <td>intermediate</td>\n      <td>1466686436</td>\n    </tr>\n    <tr>\n      <td>1</td>\n      <td>user_3028</td>\n      <td>63</td>\n      <td>52</td>\n      <td>0</td>\n      <td>India</td>\n      <td>17</td>\n      <td>1498998165</td>\n      <td>405.677</td>\n      <td>339.450</td>\n      <td>intermediate</td>\n      <td>1441893325</td>\n    </tr>\n    <tr>\n      <td>2</td>\n      <td>user_2268</td>\n      <td>226</td>\n      <td>203</td>\n      <td>-8</td>\n      <td>Egypt</td>\n      <td>24</td>\n      <td>1505566052</td>\n      <td>307.339</td>\n      <td>284.404</td>\n      <td>beginner</td>\n      <td>1454267603</td>\n    </tr>\n    <tr>\n      <td>3</td>\n      <td>user_480</td>\n      <td>611</td>\n      <td>490</td>\n      <td>1</td>\n      <td>Ukraine</td>\n      <td>94</td>\n      <td>1505257499</td>\n      <td>525.803</td>\n      <td>471.330</td>\n      <td>advanced</td>\n      <td>1350720417</td>\n    </tr>\n    <tr>\n      <td>4</td>\n      <td>user_650</td>\n      <td>504</td>\n      <td>479</td>\n      <td>12</td>\n      <td>Russia</td>\n      <td>4</td>\n      <td>1496613433</td>\n      <td>548.739</td>\n      <td>486.525</td>\n      <td>advanced</td>\n      <td>1395560498</td>\n    </tr>\n  </tbody>\n</table>\n</div>",
      "text/plain": "     user_id  submission_count  problem_solved  contribution  country  \\\n0  user_3311                47              40             0      NaN   \n1  user_3028                63              52             0    India   \n2  user_2268               226             203            -8    Egypt   \n3   user_480               611             490             1  Ukraine   \n4   user_650               504             479            12   Russia   \n\n   follower_count  last_online_time_seconds  max_rating   rating  \\\n0               4                1504111645     348.337  330.849   \n1              17                1498998165     405.677  339.450   \n2              24                1505566052     307.339  284.404   \n3              94                1505257499     525.803  471.330   \n4               4                1496613433     548.739  486.525   \n\n           rank  registration_time_seconds  \n0  intermediate                 1466686436  \n1  intermediate                 1441893325  \n2      beginner                 1454267603  \n3      advanced                 1350720417  \n4      advanced                 1395560498  "
     },
     "execution_count": 7,
     "metadata": {},
     "output_type": "execute_result"
    }
   ],
   "source": [
    "df3.head()"
   ]
  },
  {
   "cell_type": "code",
   "execution_count": 8,
   "metadata": {},
   "outputs": [
    {
     "data": {
      "text/plain": "6544"
     },
     "execution_count": 8,
     "metadata": {},
     "output_type": "execute_result"
    }
   ],
   "source": [
    "df1.problem_id.count()"
   ]
  },
  {
   "cell_type": "code",
   "execution_count": 9,
   "metadata": {},
   "outputs": [
    {
     "data": {
      "text/plain": "155295"
     },
     "execution_count": 9,
     "metadata": {},
     "output_type": "execute_result"
    }
   ],
   "source": [
    "df2.problem_id.count()"
   ]
  },
  {
   "cell_type": "code",
   "execution_count": 10,
   "metadata": {},
   "outputs": [],
   "source": [
    "df = pd.merge(df2 , df1 , on = 'problem_id' , how = 'left')"
   ]
  },
  {
   "cell_type": "code",
   "execution_count": 11,
   "metadata": {},
   "outputs": [
    {
     "data": {
      "text/html": "<div>\n<style scoped>\n    .dataframe tbody tr th:only-of-type {\n        vertical-align: middle;\n    }\n\n    .dataframe tbody tr th {\n        vertical-align: top;\n    }\n\n    .dataframe thead th {\n        text-align: right;\n    }\n</style>\n<table border=\"1\" class=\"dataframe\">\n  <thead>\n    <tr style=\"text-align: right;\">\n      <th></th>\n      <th>user_id</th>\n      <th>problem_id</th>\n      <th>attempts_range</th>\n      <th>level_type</th>\n      <th>points</th>\n      <th>tags</th>\n    </tr>\n  </thead>\n  <tbody>\n    <tr>\n      <td>0</td>\n      <td>user_232</td>\n      <td>prob_6507</td>\n      <td>1</td>\n      <td>B</td>\n      <td>1000.0</td>\n      <td>strings</td>\n    </tr>\n    <tr>\n      <td>1</td>\n      <td>user_3568</td>\n      <td>prob_2994</td>\n      <td>3</td>\n      <td>C</td>\n      <td>1500.0</td>\n      <td>brute force,dp</td>\n    </tr>\n    <tr>\n      <td>2</td>\n      <td>user_1600</td>\n      <td>prob_5071</td>\n      <td>1</td>\n      <td>A</td>\n      <td>500.0</td>\n      <td>implementation</td>\n    </tr>\n    <tr>\n      <td>3</td>\n      <td>user_2256</td>\n      <td>prob_703</td>\n      <td>1</td>\n      <td>A</td>\n      <td>500.0</td>\n      <td>brute force,implementation</td>\n    </tr>\n    <tr>\n      <td>4</td>\n      <td>user_2321</td>\n      <td>prob_356</td>\n      <td>1</td>\n      <td>D</td>\n      <td>2000.0</td>\n      <td>dfs and similar,trees</td>\n    </tr>\n  </tbody>\n</table>\n</div>",
      "text/plain": "     user_id problem_id  attempts_range level_type  points  \\\n0   user_232  prob_6507               1          B  1000.0   \n1  user_3568  prob_2994               3          C  1500.0   \n2  user_1600  prob_5071               1          A   500.0   \n3  user_2256   prob_703               1          A   500.0   \n4  user_2321   prob_356               1          D  2000.0   \n\n                         tags  \n0                     strings  \n1              brute force,dp  \n2              implementation  \n3  brute force,implementation  \n4       dfs and similar,trees  "
     },
     "execution_count": 11,
     "metadata": {},
     "output_type": "execute_result"
    }
   ],
   "source": [
    "df.head()"
   ]
  },
  {
   "cell_type": "code",
   "execution_count": 12,
   "metadata": {},
   "outputs": [],
   "source": [
    "df = pd.merge(df3 , df , on = 'user_id', how = 'left')"
   ]
  },
  {
   "cell_type": "code",
   "execution_count": 13,
   "metadata": {},
   "outputs": [
    {
     "data": {
      "text/html": "<div>\n<style scoped>\n    .dataframe tbody tr th:only-of-type {\n        vertical-align: middle;\n    }\n\n    .dataframe tbody tr th {\n        vertical-align: top;\n    }\n\n    .dataframe thead th {\n        text-align: right;\n    }\n</style>\n<table border=\"1\" class=\"dataframe\">\n  <thead>\n    <tr style=\"text-align: right;\">\n      <th></th>\n      <th>user_id</th>\n      <th>submission_count</th>\n      <th>problem_solved</th>\n      <th>contribution</th>\n      <th>country</th>\n      <th>follower_count</th>\n      <th>last_online_time_seconds</th>\n      <th>max_rating</th>\n      <th>rating</th>\n      <th>rank</th>\n      <th>registration_time_seconds</th>\n      <th>problem_id</th>\n      <th>attempts_range</th>\n      <th>level_type</th>\n      <th>points</th>\n      <th>tags</th>\n    </tr>\n  </thead>\n  <tbody>\n    <tr>\n      <td>0</td>\n      <td>user_3311</td>\n      <td>47</td>\n      <td>40</td>\n      <td>0</td>\n      <td>NaN</td>\n      <td>4</td>\n      <td>1504111645</td>\n      <td>348.337</td>\n      <td>330.849</td>\n      <td>intermediate</td>\n      <td>1466686436</td>\n      <td>prob_75</td>\n      <td>1.0</td>\n      <td>A</td>\n      <td>500.0</td>\n      <td>implementation</td>\n    </tr>\n    <tr>\n      <td>1</td>\n      <td>user_3311</td>\n      <td>47</td>\n      <td>40</td>\n      <td>0</td>\n      <td>NaN</td>\n      <td>4</td>\n      <td>1504111645</td>\n      <td>348.337</td>\n      <td>330.849</td>\n      <td>intermediate</td>\n      <td>1466686436</td>\n      <td>prob_1481</td>\n      <td>1.0</td>\n      <td>B</td>\n      <td>1000.0</td>\n      <td>brute force,implementation</td>\n    </tr>\n    <tr>\n      <td>2</td>\n      <td>user_3311</td>\n      <td>47</td>\n      <td>40</td>\n      <td>0</td>\n      <td>NaN</td>\n      <td>4</td>\n      <td>1504111645</td>\n      <td>348.337</td>\n      <td>330.849</td>\n      <td>intermediate</td>\n      <td>1466686436</td>\n      <td>prob_3474</td>\n      <td>1.0</td>\n      <td>B</td>\n      <td>1000.0</td>\n      <td>constructive algorithms,implementation,sortings</td>\n    </tr>\n    <tr>\n      <td>3</td>\n      <td>user_3311</td>\n      <td>47</td>\n      <td>40</td>\n      <td>0</td>\n      <td>NaN</td>\n      <td>4</td>\n      <td>1504111645</td>\n      <td>348.337</td>\n      <td>330.849</td>\n      <td>intermediate</td>\n      <td>1466686436</td>\n      <td>prob_334</td>\n      <td>1.0</td>\n      <td>A</td>\n      <td>500.0</td>\n      <td>binary search,brute force,implementation,math</td>\n    </tr>\n    <tr>\n      <td>4</td>\n      <td>user_3311</td>\n      <td>47</td>\n      <td>40</td>\n      <td>0</td>\n      <td>NaN</td>\n      <td>4</td>\n      <td>1504111645</td>\n      <td>348.337</td>\n      <td>330.849</td>\n      <td>intermediate</td>\n      <td>1466686436</td>\n      <td>prob_3508</td>\n      <td>1.0</td>\n      <td>A</td>\n      <td>500.0</td>\n      <td>implementation</td>\n    </tr>\n    <tr>\n      <td>5</td>\n      <td>user_3311</td>\n      <td>47</td>\n      <td>40</td>\n      <td>0</td>\n      <td>NaN</td>\n      <td>4</td>\n      <td>1504111645</td>\n      <td>348.337</td>\n      <td>330.849</td>\n      <td>intermediate</td>\n      <td>1466686436</td>\n      <td>prob_350</td>\n      <td>6.0</td>\n      <td>E</td>\n      <td>NaN</td>\n      <td>dfs and similar</td>\n    </tr>\n    <tr>\n      <td>6</td>\n      <td>user_3311</td>\n      <td>47</td>\n      <td>40</td>\n      <td>0</td>\n      <td>NaN</td>\n      <td>4</td>\n      <td>1504111645</td>\n      <td>348.337</td>\n      <td>330.849</td>\n      <td>intermediate</td>\n      <td>1466686436</td>\n      <td>prob_4089</td>\n      <td>1.0</td>\n      <td>D</td>\n      <td>1500.0</td>\n      <td>brute force,data structures,dfs and similar,dp...</td>\n    </tr>\n    <tr>\n      <td>7</td>\n      <td>user_3311</td>\n      <td>47</td>\n      <td>40</td>\n      <td>0</td>\n      <td>NaN</td>\n      <td>4</td>\n      <td>1504111645</td>\n      <td>348.337</td>\n      <td>330.849</td>\n      <td>intermediate</td>\n      <td>1466686436</td>\n      <td>prob_2121</td>\n      <td>1.0</td>\n      <td>B</td>\n      <td>1000.0</td>\n      <td>brute force,constructive algorithms,geometry</td>\n    </tr>\n    <tr>\n      <td>8</td>\n      <td>user_3311</td>\n      <td>47</td>\n      <td>40</td>\n      <td>0</td>\n      <td>NaN</td>\n      <td>4</td>\n      <td>1504111645</td>\n      <td>348.337</td>\n      <td>330.849</td>\n      <td>intermediate</td>\n      <td>1466686436</td>\n      <td>prob_5565</td>\n      <td>1.0</td>\n      <td>B</td>\n      <td>750.0</td>\n      <td>greedy</td>\n    </tr>\n    <tr>\n      <td>9</td>\n      <td>user_3311</td>\n      <td>47</td>\n      <td>40</td>\n      <td>0</td>\n      <td>NaN</td>\n      <td>4</td>\n      <td>1504111645</td>\n      <td>348.337</td>\n      <td>330.849</td>\n      <td>intermediate</td>\n      <td>1466686436</td>\n      <td>prob_3528</td>\n      <td>3.0</td>\n      <td>A</td>\n      <td>500.0</td>\n      <td>implementation</td>\n    </tr>\n  </tbody>\n</table>\n</div>",
      "text/plain": "     user_id  submission_count  problem_solved  contribution country  \\\n0  user_3311                47              40             0     NaN   \n1  user_3311                47              40             0     NaN   \n2  user_3311                47              40             0     NaN   \n3  user_3311                47              40             0     NaN   \n4  user_3311                47              40             0     NaN   \n5  user_3311                47              40             0     NaN   \n6  user_3311                47              40             0     NaN   \n7  user_3311                47              40             0     NaN   \n8  user_3311                47              40             0     NaN   \n9  user_3311                47              40             0     NaN   \n\n   follower_count  last_online_time_seconds  max_rating   rating  \\\n0               4                1504111645     348.337  330.849   \n1               4                1504111645     348.337  330.849   \n2               4                1504111645     348.337  330.849   \n3               4                1504111645     348.337  330.849   \n4               4                1504111645     348.337  330.849   \n5               4                1504111645     348.337  330.849   \n6               4                1504111645     348.337  330.849   \n7               4                1504111645     348.337  330.849   \n8               4                1504111645     348.337  330.849   \n9               4                1504111645     348.337  330.849   \n\n           rank  registration_time_seconds problem_id  attempts_range  \\\n0  intermediate                 1466686436    prob_75             1.0   \n1  intermediate                 1466686436  prob_1481             1.0   \n2  intermediate                 1466686436  prob_3474             1.0   \n3  intermediate                 1466686436   prob_334             1.0   \n4  intermediate                 1466686436  prob_3508             1.0   \n5  intermediate                 1466686436   prob_350             6.0   \n6  intermediate                 1466686436  prob_4089             1.0   \n7  intermediate                 1466686436  prob_2121             1.0   \n8  intermediate                 1466686436  prob_5565             1.0   \n9  intermediate                 1466686436  prob_3528             3.0   \n\n  level_type  points                                               tags  \n0          A   500.0                                     implementation  \n1          B  1000.0                         brute force,implementation  \n2          B  1000.0    constructive algorithms,implementation,sortings  \n3          A   500.0      binary search,brute force,implementation,math  \n4          A   500.0                                     implementation  \n5          E     NaN                                    dfs and similar  \n6          D  1500.0  brute force,data structures,dfs and similar,dp...  \n7          B  1000.0       brute force,constructive algorithms,geometry  \n8          B   750.0                                             greedy  \n9          A   500.0                                     implementation  "
     },
     "execution_count": 13,
     "metadata": {},
     "output_type": "execute_result"
    }
   ],
   "source": [
    "df.head(10)"
   ]
  },
  {
   "cell_type": "code",
   "execution_count": 14,
   "metadata": {},
   "outputs": [
    {
     "data": {
      "text/plain": "user_id                          0\nsubmission_count                 0\nproblem_solved                   0\ncontribution                     0\ncountry                      37891\nfollower_count                   0\nlast_online_time_seconds         0\nmax_rating                       0\nrating                           0\nrank                             0\nregistration_time_seconds        0\nproblem_id                      42\nattempts_range                  42\nlevel_type                     662\npoints                       29117\ntags                         15469\ndtype: int64"
     },
     "execution_count": 14,
     "metadata": {},
     "output_type": "execute_result"
    }
   ],
   "source": [
    "df.isnull().sum(axis = 0)"
   ]
  },
  {
   "cell_type": "code",
   "execution_count": 15,
   "metadata": {},
   "outputs": [],
   "source": [
    "df['ID'] = df['user_id'].str.cat(df['problem_id'] , sep='_')"
   ]
  },
  {
   "cell_type": "code",
   "execution_count": 16,
   "metadata": {},
   "outputs": [
    {
     "data": {
      "text/plain": "42"
     },
     "execution_count": 16,
     "metadata": {},
     "output_type": "execute_result"
    }
   ],
   "source": [
    "df.attempts_range.isna().sum()"
   ]
  },
  {
   "cell_type": "code",
   "execution_count": 17,
   "metadata": {},
   "outputs": [],
   "source": [
    "df.attempts_range.fillna(1,inplace=True)"
   ]
  },
  {
   "cell_type": "code",
   "execution_count": 18,
   "metadata": {},
   "outputs": [
    {
     "data": {
      "text/html": "<div>\n<style scoped>\n    .dataframe tbody tr th:only-of-type {\n        vertical-align: middle;\n    }\n\n    .dataframe tbody tr th {\n        vertical-align: top;\n    }\n\n    .dataframe thead th {\n        text-align: right;\n    }\n</style>\n<table border=\"1\" class=\"dataframe\">\n  <thead>\n    <tr style=\"text-align: right;\">\n      <th></th>\n      <th>user_id</th>\n      <th>submission_count</th>\n      <th>problem_solved</th>\n      <th>contribution</th>\n      <th>country</th>\n      <th>follower_count</th>\n      <th>last_online_time_seconds</th>\n      <th>max_rating</th>\n      <th>rating</th>\n      <th>rank</th>\n      <th>registration_time_seconds</th>\n      <th>problem_id</th>\n      <th>attempts_range</th>\n      <th>level_type</th>\n      <th>points</th>\n      <th>tags</th>\n      <th>ID</th>\n    </tr>\n  </thead>\n  <tbody>\n    <tr>\n      <td>0</td>\n      <td>user_3311</td>\n      <td>47</td>\n      <td>40</td>\n      <td>0</td>\n      <td>NaN</td>\n      <td>4</td>\n      <td>1504111645</td>\n      <td>348.337</td>\n      <td>330.849</td>\n      <td>intermediate</td>\n      <td>1466686436</td>\n      <td>prob_75</td>\n      <td>1.0</td>\n      <td>A</td>\n      <td>500.0</td>\n      <td>implementation</td>\n      <td>user_3311_prob_75</td>\n    </tr>\n    <tr>\n      <td>1</td>\n      <td>user_3311</td>\n      <td>47</td>\n      <td>40</td>\n      <td>0</td>\n      <td>NaN</td>\n      <td>4</td>\n      <td>1504111645</td>\n      <td>348.337</td>\n      <td>330.849</td>\n      <td>intermediate</td>\n      <td>1466686436</td>\n      <td>prob_1481</td>\n      <td>1.0</td>\n      <td>B</td>\n      <td>1000.0</td>\n      <td>brute force,implementation</td>\n      <td>user_3311_prob_1481</td>\n    </tr>\n    <tr>\n      <td>2</td>\n      <td>user_3311</td>\n      <td>47</td>\n      <td>40</td>\n      <td>0</td>\n      <td>NaN</td>\n      <td>4</td>\n      <td>1504111645</td>\n      <td>348.337</td>\n      <td>330.849</td>\n      <td>intermediate</td>\n      <td>1466686436</td>\n      <td>prob_3474</td>\n      <td>1.0</td>\n      <td>B</td>\n      <td>1000.0</td>\n      <td>constructive algorithms,implementation,sortings</td>\n      <td>user_3311_prob_3474</td>\n    </tr>\n    <tr>\n      <td>3</td>\n      <td>user_3311</td>\n      <td>47</td>\n      <td>40</td>\n      <td>0</td>\n      <td>NaN</td>\n      <td>4</td>\n      <td>1504111645</td>\n      <td>348.337</td>\n      <td>330.849</td>\n      <td>intermediate</td>\n      <td>1466686436</td>\n      <td>prob_334</td>\n      <td>1.0</td>\n      <td>A</td>\n      <td>500.0</td>\n      <td>binary search,brute force,implementation,math</td>\n      <td>user_3311_prob_334</td>\n    </tr>\n    <tr>\n      <td>4</td>\n      <td>user_3311</td>\n      <td>47</td>\n      <td>40</td>\n      <td>0</td>\n      <td>NaN</td>\n      <td>4</td>\n      <td>1504111645</td>\n      <td>348.337</td>\n      <td>330.849</td>\n      <td>intermediate</td>\n      <td>1466686436</td>\n      <td>prob_3508</td>\n      <td>1.0</td>\n      <td>A</td>\n      <td>500.0</td>\n      <td>implementation</td>\n      <td>user_3311_prob_3508</td>\n    </tr>\n    <tr>\n      <td>5</td>\n      <td>user_3311</td>\n      <td>47</td>\n      <td>40</td>\n      <td>0</td>\n      <td>NaN</td>\n      <td>4</td>\n      <td>1504111645</td>\n      <td>348.337</td>\n      <td>330.849</td>\n      <td>intermediate</td>\n      <td>1466686436</td>\n      <td>prob_350</td>\n      <td>6.0</td>\n      <td>E</td>\n      <td>NaN</td>\n      <td>dfs and similar</td>\n      <td>user_3311_prob_350</td>\n    </tr>\n    <tr>\n      <td>6</td>\n      <td>user_3311</td>\n      <td>47</td>\n      <td>40</td>\n      <td>0</td>\n      <td>NaN</td>\n      <td>4</td>\n      <td>1504111645</td>\n      <td>348.337</td>\n      <td>330.849</td>\n      <td>intermediate</td>\n      <td>1466686436</td>\n      <td>prob_4089</td>\n      <td>1.0</td>\n      <td>D</td>\n      <td>1500.0</td>\n      <td>brute force,data structures,dfs and similar,dp...</td>\n      <td>user_3311_prob_4089</td>\n    </tr>\n    <tr>\n      <td>7</td>\n      <td>user_3311</td>\n      <td>47</td>\n      <td>40</td>\n      <td>0</td>\n      <td>NaN</td>\n      <td>4</td>\n      <td>1504111645</td>\n      <td>348.337</td>\n      <td>330.849</td>\n      <td>intermediate</td>\n      <td>1466686436</td>\n      <td>prob_2121</td>\n      <td>1.0</td>\n      <td>B</td>\n      <td>1000.0</td>\n      <td>brute force,constructive algorithms,geometry</td>\n      <td>user_3311_prob_2121</td>\n    </tr>\n    <tr>\n      <td>8</td>\n      <td>user_3311</td>\n      <td>47</td>\n      <td>40</td>\n      <td>0</td>\n      <td>NaN</td>\n      <td>4</td>\n      <td>1504111645</td>\n      <td>348.337</td>\n      <td>330.849</td>\n      <td>intermediate</td>\n      <td>1466686436</td>\n      <td>prob_5565</td>\n      <td>1.0</td>\n      <td>B</td>\n      <td>750.0</td>\n      <td>greedy</td>\n      <td>user_3311_prob_5565</td>\n    </tr>\n    <tr>\n      <td>9</td>\n      <td>user_3311</td>\n      <td>47</td>\n      <td>40</td>\n      <td>0</td>\n      <td>NaN</td>\n      <td>4</td>\n      <td>1504111645</td>\n      <td>348.337</td>\n      <td>330.849</td>\n      <td>intermediate</td>\n      <td>1466686436</td>\n      <td>prob_3528</td>\n      <td>3.0</td>\n      <td>A</td>\n      <td>500.0</td>\n      <td>implementation</td>\n      <td>user_3311_prob_3528</td>\n    </tr>\n  </tbody>\n</table>\n</div>",
      "text/plain": "     user_id  submission_count  problem_solved  contribution country  \\\n0  user_3311                47              40             0     NaN   \n1  user_3311                47              40             0     NaN   \n2  user_3311                47              40             0     NaN   \n3  user_3311                47              40             0     NaN   \n4  user_3311                47              40             0     NaN   \n5  user_3311                47              40             0     NaN   \n6  user_3311                47              40             0     NaN   \n7  user_3311                47              40             0     NaN   \n8  user_3311                47              40             0     NaN   \n9  user_3311                47              40             0     NaN   \n\n   follower_count  last_online_time_seconds  max_rating   rating  \\\n0               4                1504111645     348.337  330.849   \n1               4                1504111645     348.337  330.849   \n2               4                1504111645     348.337  330.849   \n3               4                1504111645     348.337  330.849   \n4               4                1504111645     348.337  330.849   \n5               4                1504111645     348.337  330.849   \n6               4                1504111645     348.337  330.849   \n7               4                1504111645     348.337  330.849   \n8               4                1504111645     348.337  330.849   \n9               4                1504111645     348.337  330.849   \n\n           rank  registration_time_seconds problem_id  attempts_range  \\\n0  intermediate                 1466686436    prob_75             1.0   \n1  intermediate                 1466686436  prob_1481             1.0   \n2  intermediate                 1466686436  prob_3474             1.0   \n3  intermediate                 1466686436   prob_334             1.0   \n4  intermediate                 1466686436  prob_3508             1.0   \n5  intermediate                 1466686436   prob_350             6.0   \n6  intermediate                 1466686436  prob_4089             1.0   \n7  intermediate                 1466686436  prob_2121             1.0   \n8  intermediate                 1466686436  prob_5565             1.0   \n9  intermediate                 1466686436  prob_3528             3.0   \n\n  level_type  points                                               tags  \\\n0          A   500.0                                     implementation   \n1          B  1000.0                         brute force,implementation   \n2          B  1000.0    constructive algorithms,implementation,sortings   \n3          A   500.0      binary search,brute force,implementation,math   \n4          A   500.0                                     implementation   \n5          E     NaN                                    dfs and similar   \n6          D  1500.0  brute force,data structures,dfs and similar,dp...   \n7          B  1000.0       brute force,constructive algorithms,geometry   \n8          B   750.0                                             greedy   \n9          A   500.0                                     implementation   \n\n                    ID  \n0    user_3311_prob_75  \n1  user_3311_prob_1481  \n2  user_3311_prob_3474  \n3   user_3311_prob_334  \n4  user_3311_prob_3508  \n5   user_3311_prob_350  \n6  user_3311_prob_4089  \n7  user_3311_prob_2121  \n8  user_3311_prob_5565  \n9  user_3311_prob_3528  "
     },
     "execution_count": 18,
     "metadata": {},
     "output_type": "execute_result"
    }
   ],
   "source": [
    "df.head(10)"
   ]
  },
  {
   "cell_type": "code",
   "execution_count": null,
   "metadata": {},
   "outputs": [],
   "source": []
  },
  {
   "cell_type": "code",
   "execution_count": 19,
   "metadata": {},
   "outputs": [],
   "source": [
    "df = df.reindex(columns=['ID'] + list(df.columns[:-1]))"
   ]
  },
  {
   "cell_type": "code",
   "execution_count": 20,
   "metadata": {},
   "outputs": [
    {
     "data": {
      "text/html": "<div>\n<style scoped>\n    .dataframe tbody tr th:only-of-type {\n        vertical-align: middle;\n    }\n\n    .dataframe tbody tr th {\n        vertical-align: top;\n    }\n\n    .dataframe thead th {\n        text-align: right;\n    }\n</style>\n<table border=\"1\" class=\"dataframe\">\n  <thead>\n    <tr style=\"text-align: right;\">\n      <th></th>\n      <th>ID</th>\n      <th>user_id</th>\n      <th>submission_count</th>\n      <th>problem_solved</th>\n      <th>contribution</th>\n      <th>country</th>\n      <th>follower_count</th>\n      <th>last_online_time_seconds</th>\n      <th>max_rating</th>\n      <th>rating</th>\n      <th>rank</th>\n      <th>registration_time_seconds</th>\n      <th>problem_id</th>\n      <th>attempts_range</th>\n      <th>level_type</th>\n      <th>points</th>\n      <th>tags</th>\n    </tr>\n  </thead>\n  <tbody>\n    <tr>\n      <td>0</td>\n      <td>user_3311_prob_75</td>\n      <td>user_3311</td>\n      <td>47</td>\n      <td>40</td>\n      <td>0</td>\n      <td>NaN</td>\n      <td>4</td>\n      <td>1504111645</td>\n      <td>348.337</td>\n      <td>330.849</td>\n      <td>intermediate</td>\n      <td>1466686436</td>\n      <td>prob_75</td>\n      <td>1.0</td>\n      <td>A</td>\n      <td>500.0</td>\n      <td>implementation</td>\n    </tr>\n    <tr>\n      <td>1</td>\n      <td>user_3311_prob_1481</td>\n      <td>user_3311</td>\n      <td>47</td>\n      <td>40</td>\n      <td>0</td>\n      <td>NaN</td>\n      <td>4</td>\n      <td>1504111645</td>\n      <td>348.337</td>\n      <td>330.849</td>\n      <td>intermediate</td>\n      <td>1466686436</td>\n      <td>prob_1481</td>\n      <td>1.0</td>\n      <td>B</td>\n      <td>1000.0</td>\n      <td>brute force,implementation</td>\n    </tr>\n    <tr>\n      <td>2</td>\n      <td>user_3311_prob_3474</td>\n      <td>user_3311</td>\n      <td>47</td>\n      <td>40</td>\n      <td>0</td>\n      <td>NaN</td>\n      <td>4</td>\n      <td>1504111645</td>\n      <td>348.337</td>\n      <td>330.849</td>\n      <td>intermediate</td>\n      <td>1466686436</td>\n      <td>prob_3474</td>\n      <td>1.0</td>\n      <td>B</td>\n      <td>1000.0</td>\n      <td>constructive algorithms,implementation,sortings</td>\n    </tr>\n    <tr>\n      <td>3</td>\n      <td>user_3311_prob_334</td>\n      <td>user_3311</td>\n      <td>47</td>\n      <td>40</td>\n      <td>0</td>\n      <td>NaN</td>\n      <td>4</td>\n      <td>1504111645</td>\n      <td>348.337</td>\n      <td>330.849</td>\n      <td>intermediate</td>\n      <td>1466686436</td>\n      <td>prob_334</td>\n      <td>1.0</td>\n      <td>A</td>\n      <td>500.0</td>\n      <td>binary search,brute force,implementation,math</td>\n    </tr>\n    <tr>\n      <td>4</td>\n      <td>user_3311_prob_3508</td>\n      <td>user_3311</td>\n      <td>47</td>\n      <td>40</td>\n      <td>0</td>\n      <td>NaN</td>\n      <td>4</td>\n      <td>1504111645</td>\n      <td>348.337</td>\n      <td>330.849</td>\n      <td>intermediate</td>\n      <td>1466686436</td>\n      <td>prob_3508</td>\n      <td>1.0</td>\n      <td>A</td>\n      <td>500.0</td>\n      <td>implementation</td>\n    </tr>\n  </tbody>\n</table>\n</div>",
      "text/plain": "                    ID    user_id  submission_count  problem_solved  \\\n0    user_3311_prob_75  user_3311                47              40   \n1  user_3311_prob_1481  user_3311                47              40   \n2  user_3311_prob_3474  user_3311                47              40   \n3   user_3311_prob_334  user_3311                47              40   \n4  user_3311_prob_3508  user_3311                47              40   \n\n   contribution country  follower_count  last_online_time_seconds  max_rating  \\\n0             0     NaN               4                1504111645     348.337   \n1             0     NaN               4                1504111645     348.337   \n2             0     NaN               4                1504111645     348.337   \n3             0     NaN               4                1504111645     348.337   \n4             0     NaN               4                1504111645     348.337   \n\n    rating          rank  registration_time_seconds problem_id  \\\n0  330.849  intermediate                 1466686436    prob_75   \n1  330.849  intermediate                 1466686436  prob_1481   \n2  330.849  intermediate                 1466686436  prob_3474   \n3  330.849  intermediate                 1466686436   prob_334   \n4  330.849  intermediate                 1466686436  prob_3508   \n\n   attempts_range level_type  points  \\\n0             1.0          A   500.0   \n1             1.0          B  1000.0   \n2             1.0          B  1000.0   \n3             1.0          A   500.0   \n4             1.0          A   500.0   \n\n                                              tags  \n0                                   implementation  \n1                       brute force,implementation  \n2  constructive algorithms,implementation,sortings  \n3    binary search,brute force,implementation,math  \n4                                   implementation  "
     },
     "execution_count": 20,
     "metadata": {},
     "output_type": "execute_result"
    }
   ],
   "source": [
    "df.head()"
   ]
  },
  {
   "cell_type": "code",
   "execution_count": 21,
   "metadata": {},
   "outputs": [
    {
     "data": {
      "text/plain": "15469"
     },
     "execution_count": 21,
     "metadata": {},
     "output_type": "execute_result"
    }
   ],
   "source": [
    "df.tags.isna().sum(axis=0)"
   ]
  },
  {
   "cell_type": "code",
   "execution_count": 22,
   "metadata": {},
   "outputs": [],
   "source": [
    "df.drop(['user_id', 'problem_id'] , axis=1 , inplace=True)"
   ]
  },
  {
   "cell_type": "code",
   "execution_count": 23,
   "metadata": {},
   "outputs": [
    {
     "data": {
      "text/html": "<div>\n<style scoped>\n    .dataframe tbody tr th:only-of-type {\n        vertical-align: middle;\n    }\n\n    .dataframe tbody tr th {\n        vertical-align: top;\n    }\n\n    .dataframe thead th {\n        text-align: right;\n    }\n</style>\n<table border=\"1\" class=\"dataframe\">\n  <thead>\n    <tr style=\"text-align: right;\">\n      <th></th>\n      <th>ID</th>\n      <th>submission_count</th>\n      <th>problem_solved</th>\n      <th>contribution</th>\n      <th>country</th>\n      <th>follower_count</th>\n      <th>last_online_time_seconds</th>\n      <th>max_rating</th>\n      <th>rating</th>\n      <th>rank</th>\n      <th>registration_time_seconds</th>\n      <th>attempts_range</th>\n      <th>level_type</th>\n      <th>points</th>\n      <th>tags</th>\n    </tr>\n  </thead>\n  <tbody>\n    <tr>\n      <td>155332</td>\n      <td>user_2179_prob_1065</td>\n      <td>163</td>\n      <td>115</td>\n      <td>6</td>\n      <td>South Korea</td>\n      <td>40</td>\n      <td>1502074467</td>\n      <td>392.775</td>\n      <td>288.704</td>\n      <td>beginner</td>\n      <td>1455975499</td>\n      <td>3.0</td>\n      <td>C</td>\n      <td>1750.0</td>\n      <td>divide and conquer,dp</td>\n    </tr>\n    <tr>\n      <td>155333</td>\n      <td>user_2179_prob_3222</td>\n      <td>163</td>\n      <td>115</td>\n      <td>6</td>\n      <td>South Korea</td>\n      <td>40</td>\n      <td>1502074467</td>\n      <td>392.775</td>\n      <td>288.704</td>\n      <td>beginner</td>\n      <td>1455975499</td>\n      <td>6.0</td>\n      <td>C</td>\n      <td>NaN</td>\n      <td>binary search,hashing,two pointers</td>\n    </tr>\n    <tr>\n      <td>155334</td>\n      <td>user_2179_prob_2605</td>\n      <td>163</td>\n      <td>115</td>\n      <td>6</td>\n      <td>South Korea</td>\n      <td>40</td>\n      <td>1502074467</td>\n      <td>392.775</td>\n      <td>288.704</td>\n      <td>beginner</td>\n      <td>1455975499</td>\n      <td>1.0</td>\n      <td>A</td>\n      <td>500.0</td>\n      <td>brute force,graphs,math</td>\n    </tr>\n    <tr>\n      <td>155335</td>\n      <td>user_2179_prob_186</td>\n      <td>163</td>\n      <td>115</td>\n      <td>6</td>\n      <td>South Korea</td>\n      <td>40</td>\n      <td>1502074467</td>\n      <td>392.775</td>\n      <td>288.704</td>\n      <td>beginner</td>\n      <td>1455975499</td>\n      <td>3.0</td>\n      <td>D</td>\n      <td>NaN</td>\n      <td>dp,implementation</td>\n    </tr>\n    <tr>\n      <td>155336</td>\n      <td>user_2179_prob_3935</td>\n      <td>163</td>\n      <td>115</td>\n      <td>6</td>\n      <td>South Korea</td>\n      <td>40</td>\n      <td>1502074467</td>\n      <td>392.775</td>\n      <td>288.704</td>\n      <td>beginner</td>\n      <td>1455975499</td>\n      <td>1.0</td>\n      <td>C</td>\n      <td>1000.0</td>\n      <td>greedy,sortings</td>\n    </tr>\n  </tbody>\n</table>\n</div>",
      "text/plain": "                         ID  submission_count  problem_solved  contribution  \\\n155332  user_2179_prob_1065               163             115             6   \n155333  user_2179_prob_3222               163             115             6   \n155334  user_2179_prob_2605               163             115             6   \n155335   user_2179_prob_186               163             115             6   \n155336  user_2179_prob_3935               163             115             6   \n\n            country  follower_count  last_online_time_seconds  max_rating  \\\n155332  South Korea              40                1502074467     392.775   \n155333  South Korea              40                1502074467     392.775   \n155334  South Korea              40                1502074467     392.775   \n155335  South Korea              40                1502074467     392.775   \n155336  South Korea              40                1502074467     392.775   \n\n         rating      rank  registration_time_seconds  attempts_range  \\\n155332  288.704  beginner                 1455975499             3.0   \n155333  288.704  beginner                 1455975499             6.0   \n155334  288.704  beginner                 1455975499             1.0   \n155335  288.704  beginner                 1455975499             3.0   \n155336  288.704  beginner                 1455975499             1.0   \n\n       level_type  points                                tags  \n155332          C  1750.0               divide and conquer,dp  \n155333          C     NaN  binary search,hashing,two pointers  \n155334          A   500.0             brute force,graphs,math  \n155335          D     NaN                   dp,implementation  \n155336          C  1000.0                     greedy,sortings  "
     },
     "execution_count": 23,
     "metadata": {},
     "output_type": "execute_result"
    }
   ],
   "source": [
    "df.tail()"
   ]
  },
  {
   "cell_type": "code",
   "execution_count": 24,
   "metadata": {},
   "outputs": [
    {
     "data": {
      "text/html": "<div>\n<style scoped>\n    .dataframe tbody tr th:only-of-type {\n        vertical-align: middle;\n    }\n\n    .dataframe tbody tr th {\n        vertical-align: top;\n    }\n\n    .dataframe thead th {\n        text-align: right;\n    }\n</style>\n<table border=\"1\" class=\"dataframe\">\n  <thead>\n    <tr style=\"text-align: right;\">\n      <th></th>\n      <th>submission_count</th>\n      <th>problem_solved</th>\n      <th>contribution</th>\n      <th>follower_count</th>\n      <th>last_online_time_seconds</th>\n      <th>max_rating</th>\n      <th>rating</th>\n      <th>registration_time_seconds</th>\n      <th>attempts_range</th>\n      <th>points</th>\n    </tr>\n  </thead>\n  <tbody>\n    <tr>\n      <td>count</td>\n      <td>155337.000000</td>\n      <td>155337.000000</td>\n      <td>155337.000000</td>\n      <td>155337.000000</td>\n      <td>1.553370e+05</td>\n      <td>155337.000000</td>\n      <td>155337.000000</td>\n      <td>1.553370e+05</td>\n      <td>155337.000000</td>\n      <td>126220.000000</td>\n    </tr>\n    <tr>\n      <td>mean</td>\n      <td>372.135634</td>\n      <td>335.987929</td>\n      <td>5.492233</td>\n      <td>61.047954</td>\n      <td>1.503663e+09</td>\n      <td>407.498308</td>\n      <td>368.605011</td>\n      <td>1.427526e+09</td>\n      <td>1.754823</td>\n      <td>993.302369</td>\n    </tr>\n    <tr>\n      <td>std</td>\n      <td>398.197581</td>\n      <td>377.367860</td>\n      <td>19.074261</td>\n      <td>258.964468</td>\n      <td>3.874600e+06</td>\n      <td>99.670974</td>\n      <td>112.037582</td>\n      <td>5.033909e+07</td>\n      <td>1.078376</td>\n      <td>568.115307</td>\n    </tr>\n    <tr>\n      <td>min</td>\n      <td>1.000000</td>\n      <td>0.000000</td>\n      <td>-64.000000</td>\n      <td>0.000000</td>\n      <td>1.484237e+09</td>\n      <td>303.899000</td>\n      <td>0.000000</td>\n      <td>1.264761e+09</td>\n      <td>1.000000</td>\n      <td>-1.000000</td>\n    </tr>\n    <tr>\n      <td>25%</td>\n      <td>118.000000</td>\n      <td>99.000000</td>\n      <td>0.000000</td>\n      <td>7.000000</td>\n      <td>1.504116e+09</td>\n      <td>323.394000</td>\n      <td>288.131000</td>\n      <td>1.408458e+09</td>\n      <td>1.000000</td>\n      <td>500.000000</td>\n    </tr>\n    <tr>\n      <td>50%</td>\n      <td>237.000000</td>\n      <td>209.000000</td>\n      <td>0.000000</td>\n      <td>20.000000</td>\n      <td>1.505285e+09</td>\n      <td>383.028000</td>\n      <td>356.078000</td>\n      <td>1.442860e+09</td>\n      <td>1.000000</td>\n      <td>1000.000000</td>\n    </tr>\n    <tr>\n      <td>75%</td>\n      <td>480.000000</td>\n      <td>428.000000</td>\n      <td>1.000000</td>\n      <td>52.000000</td>\n      <td>1.505560e+09</td>\n      <td>468.463000</td>\n      <td>445.814000</td>\n      <td>1.464700e+09</td>\n      <td>2.000000</td>\n      <td>1500.000000</td>\n    </tr>\n    <tr>\n      <td>max</td>\n      <td>4570.000000</td>\n      <td>4476.000000</td>\n      <td>171.000000</td>\n      <td>10575.000000</td>\n      <td>1.505595e+09</td>\n      <td>983.085000</td>\n      <td>911.124000</td>\n      <td>1.484236e+09</td>\n      <td>6.000000</td>\n      <td>5000.000000</td>\n    </tr>\n  </tbody>\n</table>\n</div>",
      "text/plain": "       submission_count  problem_solved   contribution  follower_count  \\\ncount     155337.000000   155337.000000  155337.000000   155337.000000   \nmean         372.135634      335.987929       5.492233       61.047954   \nstd          398.197581      377.367860      19.074261      258.964468   \nmin            1.000000        0.000000     -64.000000        0.000000   \n25%          118.000000       99.000000       0.000000        7.000000   \n50%          237.000000      209.000000       0.000000       20.000000   \n75%          480.000000      428.000000       1.000000       52.000000   \nmax         4570.000000     4476.000000     171.000000    10575.000000   \n\n       last_online_time_seconds     max_rating         rating  \\\ncount              1.553370e+05  155337.000000  155337.000000   \nmean               1.503663e+09     407.498308     368.605011   \nstd                3.874600e+06      99.670974     112.037582   \nmin                1.484237e+09     303.899000       0.000000   \n25%                1.504116e+09     323.394000     288.131000   \n50%                1.505285e+09     383.028000     356.078000   \n75%                1.505560e+09     468.463000     445.814000   \nmax                1.505595e+09     983.085000     911.124000   \n\n       registration_time_seconds  attempts_range         points  \ncount               1.553370e+05   155337.000000  126220.000000  \nmean                1.427526e+09        1.754823     993.302369  \nstd                 5.033909e+07        1.078376     568.115307  \nmin                 1.264761e+09        1.000000      -1.000000  \n25%                 1.408458e+09        1.000000     500.000000  \n50%                 1.442860e+09        1.000000    1000.000000  \n75%                 1.464700e+09        2.000000    1500.000000  \nmax                 1.484236e+09        6.000000    5000.000000  "
     },
     "execution_count": 24,
     "metadata": {},
     "output_type": "execute_result"
    }
   ],
   "source": [
    "df.describe()"
   ]
  },
  {
   "cell_type": "code",
   "execution_count": 25,
   "metadata": {},
   "outputs": [],
   "source": [
    "# cleaned = df.tags.str.split(',', expand=True).stack()\n",
    "# dt =pd.get_dummies(cleaned, prefix='g').groupby(level=0).sum()"
   ]
  },
  {
   "cell_type": "code",
   "execution_count": 26,
   "metadata": {},
   "outputs": [],
   "source": [
    "# def precedence(x):\n",
    "#     if x=='beginner':\n",
    "#         return 0\n",
    "#     elif x=='intermediate':\n",
    "#         return 1\n",
    "#     elif x=='advanced':\n",
    "#         return 2"
   ]
  },
  {
   "cell_type": "code",
   "execution_count": 27,
   "metadata": {},
   "outputs": [],
   "source": [
    "# df['e_rank'] = df.apply(lambda x:precedence(x['rank']),axis=1)"
   ]
  },
  {
   "cell_type": "code",
   "execution_count": 28,
   "metadata": {},
   "outputs": [],
   "source": [
    "df['e_rank'] = df['rank'].map({\"beginner\":0,\"intermediate\":1,\"advanced\":2})"
   ]
  },
  {
   "cell_type": "code",
   "execution_count": 29,
   "metadata": {},
   "outputs": [
    {
     "data": {
      "text/html": "<div>\n<style scoped>\n    .dataframe tbody tr th:only-of-type {\n        vertical-align: middle;\n    }\n\n    .dataframe tbody tr th {\n        vertical-align: top;\n    }\n\n    .dataframe thead th {\n        text-align: right;\n    }\n</style>\n<table border=\"1\" class=\"dataframe\">\n  <thead>\n    <tr style=\"text-align: right;\">\n      <th></th>\n      <th>ID</th>\n      <th>submission_count</th>\n      <th>problem_solved</th>\n      <th>contribution</th>\n      <th>country</th>\n      <th>follower_count</th>\n      <th>last_online_time_seconds</th>\n      <th>max_rating</th>\n      <th>rating</th>\n      <th>rank</th>\n      <th>registration_time_seconds</th>\n      <th>attempts_range</th>\n      <th>level_type</th>\n      <th>points</th>\n      <th>tags</th>\n      <th>e_rank</th>\n    </tr>\n  </thead>\n  <tbody>\n    <tr>\n      <td>155237</td>\n      <td>user_1929_prob_3844</td>\n      <td>58</td>\n      <td>51</td>\n      <td>0</td>\n      <td>NaN</td>\n      <td>0</td>\n      <td>1505552744</td>\n      <td>330.275</td>\n      <td>262.901</td>\n      <td>beginner</td>\n      <td>1480086231</td>\n      <td>2.0</td>\n      <td>A</td>\n      <td>500.0</td>\n      <td>brute force</td>\n      <td>0.0</td>\n    </tr>\n    <tr>\n      <td>155238</td>\n      <td>user_1929_prob_29</td>\n      <td>58</td>\n      <td>51</td>\n      <td>0</td>\n      <td>NaN</td>\n      <td>0</td>\n      <td>1505552744</td>\n      <td>330.275</td>\n      <td>262.901</td>\n      <td>beginner</td>\n      <td>1480086231</td>\n      <td>3.0</td>\n      <td>A</td>\n      <td>NaN</td>\n      <td>implementation,sortings</td>\n      <td>0.0</td>\n    </tr>\n    <tr>\n      <td>155239</td>\n      <td>user_1929_prob_2334</td>\n      <td>58</td>\n      <td>51</td>\n      <td>0</td>\n      <td>NaN</td>\n      <td>0</td>\n      <td>1505552744</td>\n      <td>330.275</td>\n      <td>262.901</td>\n      <td>beginner</td>\n      <td>1480086231</td>\n      <td>2.0</td>\n      <td>A</td>\n      <td>500.0</td>\n      <td>brute force,implementation</td>\n      <td>0.0</td>\n    </tr>\n    <tr>\n      <td>155240</td>\n      <td>user_1929_prob_1716</td>\n      <td>58</td>\n      <td>51</td>\n      <td>0</td>\n      <td>NaN</td>\n      <td>0</td>\n      <td>1505552744</td>\n      <td>330.275</td>\n      <td>262.901</td>\n      <td>beginner</td>\n      <td>1480086231</td>\n      <td>1.0</td>\n      <td>A</td>\n      <td>500.0</td>\n      <td>implementation</td>\n      <td>0.0</td>\n    </tr>\n    <tr>\n      <td>155241</td>\n      <td>user_1929_prob_4060</td>\n      <td>58</td>\n      <td>51</td>\n      <td>0</td>\n      <td>NaN</td>\n      <td>0</td>\n      <td>1505552744</td>\n      <td>330.275</td>\n      <td>262.901</td>\n      <td>beginner</td>\n      <td>1480086231</td>\n      <td>1.0</td>\n      <td>A</td>\n      <td>500.0</td>\n      <td>implementation</td>\n      <td>0.0</td>\n    </tr>\n    <tr>\n      <td>...</td>\n      <td>...</td>\n      <td>...</td>\n      <td>...</td>\n      <td>...</td>\n      <td>...</td>\n      <td>...</td>\n      <td>...</td>\n      <td>...</td>\n      <td>...</td>\n      <td>...</td>\n      <td>...</td>\n      <td>...</td>\n      <td>...</td>\n      <td>...</td>\n      <td>...</td>\n      <td>...</td>\n    </tr>\n    <tr>\n      <td>155332</td>\n      <td>user_2179_prob_1065</td>\n      <td>163</td>\n      <td>115</td>\n      <td>6</td>\n      <td>South Korea</td>\n      <td>40</td>\n      <td>1502074467</td>\n      <td>392.775</td>\n      <td>288.704</td>\n      <td>beginner</td>\n      <td>1455975499</td>\n      <td>3.0</td>\n      <td>C</td>\n      <td>1750.0</td>\n      <td>divide and conquer,dp</td>\n      <td>0.0</td>\n    </tr>\n    <tr>\n      <td>155333</td>\n      <td>user_2179_prob_3222</td>\n      <td>163</td>\n      <td>115</td>\n      <td>6</td>\n      <td>South Korea</td>\n      <td>40</td>\n      <td>1502074467</td>\n      <td>392.775</td>\n      <td>288.704</td>\n      <td>beginner</td>\n      <td>1455975499</td>\n      <td>6.0</td>\n      <td>C</td>\n      <td>NaN</td>\n      <td>binary search,hashing,two pointers</td>\n      <td>0.0</td>\n    </tr>\n    <tr>\n      <td>155334</td>\n      <td>user_2179_prob_2605</td>\n      <td>163</td>\n      <td>115</td>\n      <td>6</td>\n      <td>South Korea</td>\n      <td>40</td>\n      <td>1502074467</td>\n      <td>392.775</td>\n      <td>288.704</td>\n      <td>beginner</td>\n      <td>1455975499</td>\n      <td>1.0</td>\n      <td>A</td>\n      <td>500.0</td>\n      <td>brute force,graphs,math</td>\n      <td>0.0</td>\n    </tr>\n    <tr>\n      <td>155335</td>\n      <td>user_2179_prob_186</td>\n      <td>163</td>\n      <td>115</td>\n      <td>6</td>\n      <td>South Korea</td>\n      <td>40</td>\n      <td>1502074467</td>\n      <td>392.775</td>\n      <td>288.704</td>\n      <td>beginner</td>\n      <td>1455975499</td>\n      <td>3.0</td>\n      <td>D</td>\n      <td>NaN</td>\n      <td>dp,implementation</td>\n      <td>0.0</td>\n    </tr>\n    <tr>\n      <td>155336</td>\n      <td>user_2179_prob_3935</td>\n      <td>163</td>\n      <td>115</td>\n      <td>6</td>\n      <td>South Korea</td>\n      <td>40</td>\n      <td>1502074467</td>\n      <td>392.775</td>\n      <td>288.704</td>\n      <td>beginner</td>\n      <td>1455975499</td>\n      <td>1.0</td>\n      <td>C</td>\n      <td>1000.0</td>\n      <td>greedy,sortings</td>\n      <td>0.0</td>\n    </tr>\n  </tbody>\n</table>\n<p>100 rows × 16 columns</p>\n</div>",
      "text/plain": "                         ID  submission_count  problem_solved  contribution  \\\n155237  user_1929_prob_3844                58              51             0   \n155238    user_1929_prob_29                58              51             0   \n155239  user_1929_prob_2334                58              51             0   \n155240  user_1929_prob_1716                58              51             0   \n155241  user_1929_prob_4060                58              51             0   \n...                     ...               ...             ...           ...   \n155332  user_2179_prob_1065               163             115             6   \n155333  user_2179_prob_3222               163             115             6   \n155334  user_2179_prob_2605               163             115             6   \n155335   user_2179_prob_186               163             115             6   \n155336  user_2179_prob_3935               163             115             6   \n\n            country  follower_count  last_online_time_seconds  max_rating  \\\n155237          NaN               0                1505552744     330.275   \n155238          NaN               0                1505552744     330.275   \n155239          NaN               0                1505552744     330.275   \n155240          NaN               0                1505552744     330.275   \n155241          NaN               0                1505552744     330.275   \n...             ...             ...                       ...         ...   \n155332  South Korea              40                1502074467     392.775   \n155333  South Korea              40                1502074467     392.775   \n155334  South Korea              40                1502074467     392.775   \n155335  South Korea              40                1502074467     392.775   \n155336  South Korea              40                1502074467     392.775   \n\n         rating      rank  registration_time_seconds  attempts_range  \\\n155237  262.901  beginner                 1480086231             2.0   \n155238  262.901  beginner                 1480086231             3.0   \n155239  262.901  beginner                 1480086231             2.0   \n155240  262.901  beginner                 1480086231             1.0   \n155241  262.901  beginner                 1480086231             1.0   \n...         ...       ...                        ...             ...   \n155332  288.704  beginner                 1455975499             3.0   \n155333  288.704  beginner                 1455975499             6.0   \n155334  288.704  beginner                 1455975499             1.0   \n155335  288.704  beginner                 1455975499             3.0   \n155336  288.704  beginner                 1455975499             1.0   \n\n       level_type  points                                tags  e_rank  \n155237          A   500.0                         brute force     0.0  \n155238          A     NaN             implementation,sortings     0.0  \n155239          A   500.0          brute force,implementation     0.0  \n155240          A   500.0                      implementation     0.0  \n155241          A   500.0                      implementation     0.0  \n...           ...     ...                                 ...     ...  \n155332          C  1750.0               divide and conquer,dp     0.0  \n155333          C     NaN  binary search,hashing,two pointers     0.0  \n155334          A   500.0             brute force,graphs,math     0.0  \n155335          D     NaN                   dp,implementation     0.0  \n155336          C  1000.0                     greedy,sortings     0.0  \n\n[100 rows x 16 columns]"
     },
     "execution_count": 29,
     "metadata": {},
     "output_type": "execute_result"
    }
   ],
   "source": [
    "df.tail(100)"
   ]
  },
  {
   "cell_type": "code",
   "execution_count": 30,
   "metadata": {},
   "outputs": [
    {
     "data": {
      "text/plain": "1.0    66516\n0.0    53232\n2.0    30351\nName: e_rank, dtype: int64"
     },
     "execution_count": 30,
     "metadata": {},
     "output_type": "execute_result"
    }
   ],
   "source": [
    "df.e_rank.value_counts()"
   ]
  },
  {
   "cell_type": "code",
   "execution_count": 31,
   "metadata": {},
   "outputs": [
    {
     "data": {
      "text/plain": "5238"
     },
     "execution_count": 31,
     "metadata": {},
     "output_type": "execute_result"
    }
   ],
   "source": [
    "df.e_rank.isna().sum()"
   ]
  },
  {
   "cell_type": "code",
   "execution_count": 32,
   "metadata": {},
   "outputs": [],
   "source": [
    "df.e_rank.fillna(method='bfill',inplace=True)\n"
   ]
  },
  {
   "cell_type": "code",
   "execution_count": 33,
   "metadata": {},
   "outputs": [],
   "source": [
    "#df= pd.get_dummies(df, columns=['rank'], prefix=['encoded_'],drop_first=False)"
   ]
  },
  {
   "cell_type": "code",
   "execution_count": 34,
   "metadata": {},
   "outputs": [
    {
     "data": {
      "text/html": "<div>\n<style scoped>\n    .dataframe tbody tr th:only-of-type {\n        vertical-align: middle;\n    }\n\n    .dataframe tbody tr th {\n        vertical-align: top;\n    }\n\n    .dataframe thead th {\n        text-align: right;\n    }\n</style>\n<table border=\"1\" class=\"dataframe\">\n  <thead>\n    <tr style=\"text-align: right;\">\n      <th></th>\n      <th>ID</th>\n      <th>submission_count</th>\n      <th>problem_solved</th>\n      <th>contribution</th>\n      <th>country</th>\n      <th>follower_count</th>\n      <th>last_online_time_seconds</th>\n      <th>max_rating</th>\n      <th>rating</th>\n      <th>rank</th>\n      <th>registration_time_seconds</th>\n      <th>attempts_range</th>\n      <th>level_type</th>\n      <th>points</th>\n      <th>tags</th>\n      <th>e_rank</th>\n    </tr>\n  </thead>\n  <tbody>\n    <tr>\n      <td>0</td>\n      <td>user_3311_prob_75</td>\n      <td>47</td>\n      <td>40</td>\n      <td>0</td>\n      <td>NaN</td>\n      <td>4</td>\n      <td>1504111645</td>\n      <td>348.337</td>\n      <td>330.849</td>\n      <td>intermediate</td>\n      <td>1466686436</td>\n      <td>1.0</td>\n      <td>A</td>\n      <td>500.0</td>\n      <td>implementation</td>\n      <td>1.0</td>\n    </tr>\n    <tr>\n      <td>1</td>\n      <td>user_3311_prob_1481</td>\n      <td>47</td>\n      <td>40</td>\n      <td>0</td>\n      <td>NaN</td>\n      <td>4</td>\n      <td>1504111645</td>\n      <td>348.337</td>\n      <td>330.849</td>\n      <td>intermediate</td>\n      <td>1466686436</td>\n      <td>1.0</td>\n      <td>B</td>\n      <td>1000.0</td>\n      <td>brute force,implementation</td>\n      <td>1.0</td>\n    </tr>\n    <tr>\n      <td>2</td>\n      <td>user_3311_prob_3474</td>\n      <td>47</td>\n      <td>40</td>\n      <td>0</td>\n      <td>NaN</td>\n      <td>4</td>\n      <td>1504111645</td>\n      <td>348.337</td>\n      <td>330.849</td>\n      <td>intermediate</td>\n      <td>1466686436</td>\n      <td>1.0</td>\n      <td>B</td>\n      <td>1000.0</td>\n      <td>constructive algorithms,implementation,sortings</td>\n      <td>1.0</td>\n    </tr>\n    <tr>\n      <td>3</td>\n      <td>user_3311_prob_334</td>\n      <td>47</td>\n      <td>40</td>\n      <td>0</td>\n      <td>NaN</td>\n      <td>4</td>\n      <td>1504111645</td>\n      <td>348.337</td>\n      <td>330.849</td>\n      <td>intermediate</td>\n      <td>1466686436</td>\n      <td>1.0</td>\n      <td>A</td>\n      <td>500.0</td>\n      <td>binary search,brute force,implementation,math</td>\n      <td>1.0</td>\n    </tr>\n    <tr>\n      <td>4</td>\n      <td>user_3311_prob_3508</td>\n      <td>47</td>\n      <td>40</td>\n      <td>0</td>\n      <td>NaN</td>\n      <td>4</td>\n      <td>1504111645</td>\n      <td>348.337</td>\n      <td>330.849</td>\n      <td>intermediate</td>\n      <td>1466686436</td>\n      <td>1.0</td>\n      <td>A</td>\n      <td>500.0</td>\n      <td>implementation</td>\n      <td>1.0</td>\n    </tr>\n  </tbody>\n</table>\n</div>",
      "text/plain": "                    ID  submission_count  problem_solved  contribution  \\\n0    user_3311_prob_75                47              40             0   \n1  user_3311_prob_1481                47              40             0   \n2  user_3311_prob_3474                47              40             0   \n3   user_3311_prob_334                47              40             0   \n4  user_3311_prob_3508                47              40             0   \n\n  country  follower_count  last_online_time_seconds  max_rating   rating  \\\n0     NaN               4                1504111645     348.337  330.849   \n1     NaN               4                1504111645     348.337  330.849   \n2     NaN               4                1504111645     348.337  330.849   \n3     NaN               4                1504111645     348.337  330.849   \n4     NaN               4                1504111645     348.337  330.849   \n\n           rank  registration_time_seconds  attempts_range level_type  points  \\\n0  intermediate                 1466686436             1.0          A   500.0   \n1  intermediate                 1466686436             1.0          B  1000.0   \n2  intermediate                 1466686436             1.0          B  1000.0   \n3  intermediate                 1466686436             1.0          A   500.0   \n4  intermediate                 1466686436             1.0          A   500.0   \n\n                                              tags  e_rank  \n0                                   implementation     1.0  \n1                       brute force,implementation     1.0  \n2  constructive algorithms,implementation,sortings     1.0  \n3    binary search,brute force,implementation,math     1.0  \n4                                   implementation     1.0  "
     },
     "execution_count": 34,
     "metadata": {},
     "output_type": "execute_result"
    }
   ],
   "source": [
    "\n",
    "df.head()\n"
   ]
  },
  {
   "cell_type": "code",
   "execution_count": 35,
   "metadata": {},
   "outputs": [],
   "source": [
    "df['e_rank']=df['e_rank'].astype(int)"
   ]
  },
  {
   "cell_type": "code",
   "execution_count": 36,
   "metadata": {},
   "outputs": [
    {
     "data": {
      "text/html": "<div>\n<style scoped>\n    .dataframe tbody tr th:only-of-type {\n        vertical-align: middle;\n    }\n\n    .dataframe tbody tr th {\n        vertical-align: top;\n    }\n\n    .dataframe thead th {\n        text-align: right;\n    }\n</style>\n<table border=\"1\" class=\"dataframe\">\n  <thead>\n    <tr style=\"text-align: right;\">\n      <th></th>\n      <th>ID</th>\n      <th>submission_count</th>\n      <th>problem_solved</th>\n      <th>contribution</th>\n      <th>country</th>\n      <th>follower_count</th>\n      <th>last_online_time_seconds</th>\n      <th>max_rating</th>\n      <th>rating</th>\n      <th>registration_time_seconds</th>\n      <th>attempts_range</th>\n      <th>level_type</th>\n      <th>points</th>\n      <th>tags</th>\n      <th>e_rank</th>\n    </tr>\n  </thead>\n  <tbody>\n    <tr>\n      <td>0</td>\n      <td>user_3311_prob_75</td>\n      <td>47</td>\n      <td>40</td>\n      <td>0</td>\n      <td>NaN</td>\n      <td>4</td>\n      <td>1504111645</td>\n      <td>348.337</td>\n      <td>330.849</td>\n      <td>1466686436</td>\n      <td>1.0</td>\n      <td>A</td>\n      <td>500.0</td>\n      <td>implementation</td>\n      <td>1</td>\n    </tr>\n    <tr>\n      <td>1</td>\n      <td>user_3311_prob_1481</td>\n      <td>47</td>\n      <td>40</td>\n      <td>0</td>\n      <td>NaN</td>\n      <td>4</td>\n      <td>1504111645</td>\n      <td>348.337</td>\n      <td>330.849</td>\n      <td>1466686436</td>\n      <td>1.0</td>\n      <td>B</td>\n      <td>1000.0</td>\n      <td>brute force,implementation</td>\n      <td>1</td>\n    </tr>\n    <tr>\n      <td>2</td>\n      <td>user_3311_prob_3474</td>\n      <td>47</td>\n      <td>40</td>\n      <td>0</td>\n      <td>NaN</td>\n      <td>4</td>\n      <td>1504111645</td>\n      <td>348.337</td>\n      <td>330.849</td>\n      <td>1466686436</td>\n      <td>1.0</td>\n      <td>B</td>\n      <td>1000.0</td>\n      <td>constructive algorithms,implementation,sortings</td>\n      <td>1</td>\n    </tr>\n    <tr>\n      <td>3</td>\n      <td>user_3311_prob_334</td>\n      <td>47</td>\n      <td>40</td>\n      <td>0</td>\n      <td>NaN</td>\n      <td>4</td>\n      <td>1504111645</td>\n      <td>348.337</td>\n      <td>330.849</td>\n      <td>1466686436</td>\n      <td>1.0</td>\n      <td>A</td>\n      <td>500.0</td>\n      <td>binary search,brute force,implementation,math</td>\n      <td>1</td>\n    </tr>\n    <tr>\n      <td>4</td>\n      <td>user_3311_prob_3508</td>\n      <td>47</td>\n      <td>40</td>\n      <td>0</td>\n      <td>NaN</td>\n      <td>4</td>\n      <td>1504111645</td>\n      <td>348.337</td>\n      <td>330.849</td>\n      <td>1466686436</td>\n      <td>1.0</td>\n      <td>A</td>\n      <td>500.0</td>\n      <td>implementation</td>\n      <td>1</td>\n    </tr>\n    <tr>\n      <td>...</td>\n      <td>...</td>\n      <td>...</td>\n      <td>...</td>\n      <td>...</td>\n      <td>...</td>\n      <td>...</td>\n      <td>...</td>\n      <td>...</td>\n      <td>...</td>\n      <td>...</td>\n      <td>...</td>\n      <td>...</td>\n      <td>...</td>\n      <td>...</td>\n      <td>...</td>\n    </tr>\n    <tr>\n      <td>155332</td>\n      <td>user_2179_prob_1065</td>\n      <td>163</td>\n      <td>115</td>\n      <td>6</td>\n      <td>South Korea</td>\n      <td>40</td>\n      <td>1502074467</td>\n      <td>392.775</td>\n      <td>288.704</td>\n      <td>1455975499</td>\n      <td>3.0</td>\n      <td>C</td>\n      <td>1750.0</td>\n      <td>divide and conquer,dp</td>\n      <td>0</td>\n    </tr>\n    <tr>\n      <td>155333</td>\n      <td>user_2179_prob_3222</td>\n      <td>163</td>\n      <td>115</td>\n      <td>6</td>\n      <td>South Korea</td>\n      <td>40</td>\n      <td>1502074467</td>\n      <td>392.775</td>\n      <td>288.704</td>\n      <td>1455975499</td>\n      <td>6.0</td>\n      <td>C</td>\n      <td>NaN</td>\n      <td>binary search,hashing,two pointers</td>\n      <td>0</td>\n    </tr>\n    <tr>\n      <td>155334</td>\n      <td>user_2179_prob_2605</td>\n      <td>163</td>\n      <td>115</td>\n      <td>6</td>\n      <td>South Korea</td>\n      <td>40</td>\n      <td>1502074467</td>\n      <td>392.775</td>\n      <td>288.704</td>\n      <td>1455975499</td>\n      <td>1.0</td>\n      <td>A</td>\n      <td>500.0</td>\n      <td>brute force,graphs,math</td>\n      <td>0</td>\n    </tr>\n    <tr>\n      <td>155335</td>\n      <td>user_2179_prob_186</td>\n      <td>163</td>\n      <td>115</td>\n      <td>6</td>\n      <td>South Korea</td>\n      <td>40</td>\n      <td>1502074467</td>\n      <td>392.775</td>\n      <td>288.704</td>\n      <td>1455975499</td>\n      <td>3.0</td>\n      <td>D</td>\n      <td>NaN</td>\n      <td>dp,implementation</td>\n      <td>0</td>\n    </tr>\n    <tr>\n      <td>155336</td>\n      <td>user_2179_prob_3935</td>\n      <td>163</td>\n      <td>115</td>\n      <td>6</td>\n      <td>South Korea</td>\n      <td>40</td>\n      <td>1502074467</td>\n      <td>392.775</td>\n      <td>288.704</td>\n      <td>1455975499</td>\n      <td>1.0</td>\n      <td>C</td>\n      <td>1000.0</td>\n      <td>greedy,sortings</td>\n      <td>0</td>\n    </tr>\n  </tbody>\n</table>\n<p>155337 rows × 15 columns</p>\n</div>",
      "text/plain": "                         ID  submission_count  problem_solved  contribution  \\\n0         user_3311_prob_75                47              40             0   \n1       user_3311_prob_1481                47              40             0   \n2       user_3311_prob_3474                47              40             0   \n3        user_3311_prob_334                47              40             0   \n4       user_3311_prob_3508                47              40             0   \n...                     ...               ...             ...           ...   \n155332  user_2179_prob_1065               163             115             6   \n155333  user_2179_prob_3222               163             115             6   \n155334  user_2179_prob_2605               163             115             6   \n155335   user_2179_prob_186               163             115             6   \n155336  user_2179_prob_3935               163             115             6   \n\n            country  follower_count  last_online_time_seconds  max_rating  \\\n0               NaN               4                1504111645     348.337   \n1               NaN               4                1504111645     348.337   \n2               NaN               4                1504111645     348.337   \n3               NaN               4                1504111645     348.337   \n4               NaN               4                1504111645     348.337   \n...             ...             ...                       ...         ...   \n155332  South Korea              40                1502074467     392.775   \n155333  South Korea              40                1502074467     392.775   \n155334  South Korea              40                1502074467     392.775   \n155335  South Korea              40                1502074467     392.775   \n155336  South Korea              40                1502074467     392.775   \n\n         rating  registration_time_seconds  attempts_range level_type  points  \\\n0       330.849                 1466686436             1.0          A   500.0   \n1       330.849                 1466686436             1.0          B  1000.0   \n2       330.849                 1466686436             1.0          B  1000.0   \n3       330.849                 1466686436             1.0          A   500.0   \n4       330.849                 1466686436             1.0          A   500.0   \n...         ...                        ...             ...        ...     ...   \n155332  288.704                 1455975499             3.0          C  1750.0   \n155333  288.704                 1455975499             6.0          C     NaN   \n155334  288.704                 1455975499             1.0          A   500.0   \n155335  288.704                 1455975499             3.0          D     NaN   \n155336  288.704                 1455975499             1.0          C  1000.0   \n\n                                                   tags  e_rank  \n0                                        implementation       1  \n1                            brute force,implementation       1  \n2       constructive algorithms,implementation,sortings       1  \n3         binary search,brute force,implementation,math       1  \n4                                        implementation       1  \n...                                                 ...     ...  \n155332                            divide and conquer,dp       0  \n155333               binary search,hashing,two pointers       0  \n155334                          brute force,graphs,math       0  \n155335                                dp,implementation       0  \n155336                                  greedy,sortings       0  \n\n[155337 rows x 15 columns]"
     },
     "execution_count": 36,
     "metadata": {},
     "output_type": "execute_result"
    }
   ],
   "source": [
    "df.drop(['rank'],axis=1)"
   ]
  },
  {
   "cell_type": "code",
   "execution_count": 37,
   "metadata": {},
   "outputs": [],
   "source": [
    "# new_df = pd.DataFrame(df.tags.str.split(',').tolist()).stack()"
   ]
  },
  {
   "cell_type": "code",
   "execution_count": 38,
   "metadata": {},
   "outputs": [
    {
     "data": {
      "text/plain": "15469"
     },
     "execution_count": 38,
     "metadata": {},
     "output_type": "execute_result"
    }
   ],
   "source": [
    "df.tags.isna().sum()"
   ]
  },
  {
   "cell_type": "code",
   "execution_count": 39,
   "metadata": {},
   "outputs": [
    {
     "data": {
      "text/plain": "850"
     },
     "execution_count": 39,
     "metadata": {},
     "output_type": "execute_result"
    }
   ],
   "source": [
    "df.tags.nunique()"
   ]
  },
  {
   "cell_type": "code",
   "execution_count": 40,
   "metadata": {},
   "outputs": [
    {
     "data": {
      "text/plain": "implementation                                         23275\nbrute force,implementation                              5171\nimplementation,math                                     5096\nmath                                                    4710\nimplementation,strings                                  4317\n                                                       ...  \ndp,matrices,probabilities                                  1\ncombinatorics,data structures,math                         1\ndata structures,divide and conquer,dp,probabilities        1\ndp,string suffix structures,trees                          1\nbinary search,brute force,data structures                  1\nName: tags, Length: 850, dtype: int64"
     },
     "execution_count": 40,
     "metadata": {},
     "output_type": "execute_result"
    }
   ],
   "source": [
    "df.tags.value_counts()"
   ]
  },
  {
   "cell_type": "code",
   "execution_count": 41,
   "metadata": {},
   "outputs": [],
   "source": [
    "df.tags.fillna('implementation',inplace=True)"
   ]
  },
  {
   "cell_type": "code",
   "execution_count": 42,
   "metadata": {},
   "outputs": [],
   "source": [
    "cleaned = df.tags.str.split(',', expand=True).stack()"
   ]
  },
  {
   "cell_type": "code",
   "execution_count": 43,
   "metadata": {},
   "outputs": [
    {
     "data": {
      "text/plain": "0       0             implementation\n1       0                brute force\n        1             implementation\n2       0    constructive algorithms\n        1             implementation\n                      ...           \n155334  2                       math\n155335  0                         dp\n        1             implementation\n155336  0                     greedy\n        1                   sortings\nLength: 309942, dtype: object"
     },
     "execution_count": 43,
     "metadata": {},
     "output_type": "execute_result"
    }
   ],
   "source": [
    "cleaned"
   ]
  },
  {
   "cell_type": "code",
   "execution_count": 44,
   "metadata": {},
   "outputs": [],
   "source": [
    "dt =pd.get_dummies(cleaned, prefix='e').groupby(level=0).sum()"
   ]
  },
  {
   "cell_type": "code",
   "execution_count": 45,
   "metadata": {},
   "outputs": [
    {
     "data": {
      "text/html": "<div>\n<style scoped>\n    .dataframe tbody tr th:only-of-type {\n        vertical-align: middle;\n    }\n\n    .dataframe tbody tr th {\n        vertical-align: top;\n    }\n\n    .dataframe thead th {\n        text-align: right;\n    }\n</style>\n<table border=\"1\" class=\"dataframe\">\n  <thead>\n    <tr style=\"text-align: right;\">\n      <th></th>\n      <th>e_*special</th>\n      <th>e_2-sat</th>\n      <th>e_binary search</th>\n      <th>e_bitmasks</th>\n      <th>e_brute force</th>\n      <th>e_chinese remainder theorem</th>\n      <th>e_combinatorics</th>\n      <th>e_constructive algorithms</th>\n      <th>e_data structures</th>\n      <th>e_dfs and similar</th>\n      <th>...</th>\n      <th>e_number theory</th>\n      <th>e_probabilities</th>\n      <th>e_schedules</th>\n      <th>e_shortest paths</th>\n      <th>e_sortings</th>\n      <th>e_string suffix structures</th>\n      <th>e_strings</th>\n      <th>e_ternary search</th>\n      <th>e_trees</th>\n      <th>e_two pointers</th>\n    </tr>\n  </thead>\n  <tbody>\n    <tr>\n      <td>0</td>\n      <td>0</td>\n      <td>0</td>\n      <td>0</td>\n      <td>0</td>\n      <td>0</td>\n      <td>0</td>\n      <td>0</td>\n      <td>0</td>\n      <td>0</td>\n      <td>0</td>\n      <td>...</td>\n      <td>0</td>\n      <td>0</td>\n      <td>0</td>\n      <td>0</td>\n      <td>0</td>\n      <td>0</td>\n      <td>0</td>\n      <td>0</td>\n      <td>0</td>\n      <td>0</td>\n    </tr>\n    <tr>\n      <td>1</td>\n      <td>0</td>\n      <td>0</td>\n      <td>0</td>\n      <td>0</td>\n      <td>1</td>\n      <td>0</td>\n      <td>0</td>\n      <td>0</td>\n      <td>0</td>\n      <td>0</td>\n      <td>...</td>\n      <td>0</td>\n      <td>0</td>\n      <td>0</td>\n      <td>0</td>\n      <td>0</td>\n      <td>0</td>\n      <td>0</td>\n      <td>0</td>\n      <td>0</td>\n      <td>0</td>\n    </tr>\n    <tr>\n      <td>2</td>\n      <td>0</td>\n      <td>0</td>\n      <td>0</td>\n      <td>0</td>\n      <td>0</td>\n      <td>0</td>\n      <td>0</td>\n      <td>1</td>\n      <td>0</td>\n      <td>0</td>\n      <td>...</td>\n      <td>0</td>\n      <td>0</td>\n      <td>0</td>\n      <td>0</td>\n      <td>1</td>\n      <td>0</td>\n      <td>0</td>\n      <td>0</td>\n      <td>0</td>\n      <td>0</td>\n    </tr>\n    <tr>\n      <td>3</td>\n      <td>0</td>\n      <td>0</td>\n      <td>1</td>\n      <td>0</td>\n      <td>1</td>\n      <td>0</td>\n      <td>0</td>\n      <td>0</td>\n      <td>0</td>\n      <td>0</td>\n      <td>...</td>\n      <td>0</td>\n      <td>0</td>\n      <td>0</td>\n      <td>0</td>\n      <td>0</td>\n      <td>0</td>\n      <td>0</td>\n      <td>0</td>\n      <td>0</td>\n      <td>0</td>\n    </tr>\n    <tr>\n      <td>4</td>\n      <td>0</td>\n      <td>0</td>\n      <td>0</td>\n      <td>0</td>\n      <td>0</td>\n      <td>0</td>\n      <td>0</td>\n      <td>0</td>\n      <td>0</td>\n      <td>0</td>\n      <td>...</td>\n      <td>0</td>\n      <td>0</td>\n      <td>0</td>\n      <td>0</td>\n      <td>0</td>\n      <td>0</td>\n      <td>0</td>\n      <td>0</td>\n      <td>0</td>\n      <td>0</td>\n    </tr>\n  </tbody>\n</table>\n<p>5 rows × 36 columns</p>\n</div>",
      "text/plain": "   e_*special  e_2-sat  e_binary search  e_bitmasks  e_brute force  \\\n0           0        0                0           0              0   \n1           0        0                0           0              1   \n2           0        0                0           0              0   \n3           0        0                1           0              1   \n4           0        0                0           0              0   \n\n   e_chinese remainder theorem  e_combinatorics  e_constructive algorithms  \\\n0                            0                0                          0   \n1                            0                0                          0   \n2                            0                0                          1   \n3                            0                0                          0   \n4                            0                0                          0   \n\n   e_data structures  e_dfs and similar  ...  e_number theory  \\\n0                  0                  0  ...                0   \n1                  0                  0  ...                0   \n2                  0                  0  ...                0   \n3                  0                  0  ...                0   \n4                  0                  0  ...                0   \n\n   e_probabilities  e_schedules  e_shortest paths  e_sortings  \\\n0                0            0                 0           0   \n1                0            0                 0           0   \n2                0            0                 0           1   \n3                0            0                 0           0   \n4                0            0                 0           0   \n\n   e_string suffix structures  e_strings  e_ternary search  e_trees  \\\n0                           0          0                 0        0   \n1                           0          0                 0        0   \n2                           0          0                 0        0   \n3                           0          0                 0        0   \n4                           0          0                 0        0   \n\n   e_two pointers  \n0               0  \n1               0  \n2               0  \n3               0  \n4               0  \n\n[5 rows x 36 columns]"
     },
     "execution_count": 45,
     "metadata": {},
     "output_type": "execute_result"
    }
   ],
   "source": [
    "dt.head()"
   ]
  },
  {
   "cell_type": "code",
   "execution_count": 46,
   "metadata": {},
   "outputs": [
    {
     "name": "stderr",
     "output_type": "stream",
     "text": "/home/harsh/anaconda3/lib/python3.7/site-packages/ipykernel_launcher.py:1: FutureWarning: The join_axes-keyword is deprecated. Use .reindex or .reindex_like on the result to achieve the same functionality.\n  \"\"\"Entry point for launching an IPython kernel.\n"
    }
   ],
   "source": [
    "res2 = pd.concat([df, dt], axis=1, join_axes=[df.index])"
   ]
  },
  {
   "cell_type": "code",
   "execution_count": 47,
   "metadata": {},
   "outputs": [
    {
     "data": {
      "text/html": "<div>\n<style scoped>\n    .dataframe tbody tr th:only-of-type {\n        vertical-align: middle;\n    }\n\n    .dataframe tbody tr th {\n        vertical-align: top;\n    }\n\n    .dataframe thead th {\n        text-align: right;\n    }\n</style>\n<table border=\"1\" class=\"dataframe\">\n  <thead>\n    <tr style=\"text-align: right;\">\n      <th></th>\n      <th>ID</th>\n      <th>submission_count</th>\n      <th>problem_solved</th>\n      <th>contribution</th>\n      <th>country</th>\n      <th>follower_count</th>\n      <th>last_online_time_seconds</th>\n      <th>max_rating</th>\n      <th>rating</th>\n      <th>registration_time_seconds</th>\n      <th>...</th>\n      <th>e_number theory</th>\n      <th>e_probabilities</th>\n      <th>e_schedules</th>\n      <th>e_shortest paths</th>\n      <th>e_sortings</th>\n      <th>e_string suffix structures</th>\n      <th>e_strings</th>\n      <th>e_ternary search</th>\n      <th>e_trees</th>\n      <th>e_two pointers</th>\n    </tr>\n  </thead>\n  <tbody>\n    <tr>\n      <td>0</td>\n      <td>user_3311_prob_75</td>\n      <td>47</td>\n      <td>40</td>\n      <td>0</td>\n      <td>NaN</td>\n      <td>4</td>\n      <td>1504111645</td>\n      <td>348.337</td>\n      <td>330.849</td>\n      <td>1466686436</td>\n      <td>...</td>\n      <td>0</td>\n      <td>0</td>\n      <td>0</td>\n      <td>0</td>\n      <td>0</td>\n      <td>0</td>\n      <td>0</td>\n      <td>0</td>\n      <td>0</td>\n      <td>0</td>\n    </tr>\n    <tr>\n      <td>1</td>\n      <td>user_3311_prob_1481</td>\n      <td>47</td>\n      <td>40</td>\n      <td>0</td>\n      <td>NaN</td>\n      <td>4</td>\n      <td>1504111645</td>\n      <td>348.337</td>\n      <td>330.849</td>\n      <td>1466686436</td>\n      <td>...</td>\n      <td>0</td>\n      <td>0</td>\n      <td>0</td>\n      <td>0</td>\n      <td>0</td>\n      <td>0</td>\n      <td>0</td>\n      <td>0</td>\n      <td>0</td>\n      <td>0</td>\n    </tr>\n    <tr>\n      <td>2</td>\n      <td>user_3311_prob_3474</td>\n      <td>47</td>\n      <td>40</td>\n      <td>0</td>\n      <td>NaN</td>\n      <td>4</td>\n      <td>1504111645</td>\n      <td>348.337</td>\n      <td>330.849</td>\n      <td>1466686436</td>\n      <td>...</td>\n      <td>0</td>\n      <td>0</td>\n      <td>0</td>\n      <td>0</td>\n      <td>1</td>\n      <td>0</td>\n      <td>0</td>\n      <td>0</td>\n      <td>0</td>\n      <td>0</td>\n    </tr>\n    <tr>\n      <td>3</td>\n      <td>user_3311_prob_334</td>\n      <td>47</td>\n      <td>40</td>\n      <td>0</td>\n      <td>NaN</td>\n      <td>4</td>\n      <td>1504111645</td>\n      <td>348.337</td>\n      <td>330.849</td>\n      <td>1466686436</td>\n      <td>...</td>\n      <td>0</td>\n      <td>0</td>\n      <td>0</td>\n      <td>0</td>\n      <td>0</td>\n      <td>0</td>\n      <td>0</td>\n      <td>0</td>\n      <td>0</td>\n      <td>0</td>\n    </tr>\n    <tr>\n      <td>4</td>\n      <td>user_3311_prob_3508</td>\n      <td>47</td>\n      <td>40</td>\n      <td>0</td>\n      <td>NaN</td>\n      <td>4</td>\n      <td>1504111645</td>\n      <td>348.337</td>\n      <td>330.849</td>\n      <td>1466686436</td>\n      <td>...</td>\n      <td>0</td>\n      <td>0</td>\n      <td>0</td>\n      <td>0</td>\n      <td>0</td>\n      <td>0</td>\n      <td>0</td>\n      <td>0</td>\n      <td>0</td>\n      <td>0</td>\n    </tr>\n    <tr>\n      <td>...</td>\n      <td>...</td>\n      <td>...</td>\n      <td>...</td>\n      <td>...</td>\n      <td>...</td>\n      <td>...</td>\n      <td>...</td>\n      <td>...</td>\n      <td>...</td>\n      <td>...</td>\n      <td>...</td>\n      <td>...</td>\n      <td>...</td>\n      <td>...</td>\n      <td>...</td>\n      <td>...</td>\n      <td>...</td>\n      <td>...</td>\n      <td>...</td>\n      <td>...</td>\n      <td>...</td>\n    </tr>\n    <tr>\n      <td>155332</td>\n      <td>user_2179_prob_1065</td>\n      <td>163</td>\n      <td>115</td>\n      <td>6</td>\n      <td>South Korea</td>\n      <td>40</td>\n      <td>1502074467</td>\n      <td>392.775</td>\n      <td>288.704</td>\n      <td>1455975499</td>\n      <td>...</td>\n      <td>0</td>\n      <td>0</td>\n      <td>0</td>\n      <td>0</td>\n      <td>0</td>\n      <td>0</td>\n      <td>0</td>\n      <td>0</td>\n      <td>0</td>\n      <td>0</td>\n    </tr>\n    <tr>\n      <td>155333</td>\n      <td>user_2179_prob_3222</td>\n      <td>163</td>\n      <td>115</td>\n      <td>6</td>\n      <td>South Korea</td>\n      <td>40</td>\n      <td>1502074467</td>\n      <td>392.775</td>\n      <td>288.704</td>\n      <td>1455975499</td>\n      <td>...</td>\n      <td>0</td>\n      <td>0</td>\n      <td>0</td>\n      <td>0</td>\n      <td>0</td>\n      <td>0</td>\n      <td>0</td>\n      <td>0</td>\n      <td>0</td>\n      <td>1</td>\n    </tr>\n    <tr>\n      <td>155334</td>\n      <td>user_2179_prob_2605</td>\n      <td>163</td>\n      <td>115</td>\n      <td>6</td>\n      <td>South Korea</td>\n      <td>40</td>\n      <td>1502074467</td>\n      <td>392.775</td>\n      <td>288.704</td>\n      <td>1455975499</td>\n      <td>...</td>\n      <td>0</td>\n      <td>0</td>\n      <td>0</td>\n      <td>0</td>\n      <td>0</td>\n      <td>0</td>\n      <td>0</td>\n      <td>0</td>\n      <td>0</td>\n      <td>0</td>\n    </tr>\n    <tr>\n      <td>155335</td>\n      <td>user_2179_prob_186</td>\n      <td>163</td>\n      <td>115</td>\n      <td>6</td>\n      <td>South Korea</td>\n      <td>40</td>\n      <td>1502074467</td>\n      <td>392.775</td>\n      <td>288.704</td>\n      <td>1455975499</td>\n      <td>...</td>\n      <td>0</td>\n      <td>0</td>\n      <td>0</td>\n      <td>0</td>\n      <td>0</td>\n      <td>0</td>\n      <td>0</td>\n      <td>0</td>\n      <td>0</td>\n      <td>0</td>\n    </tr>\n    <tr>\n      <td>155336</td>\n      <td>user_2179_prob_3935</td>\n      <td>163</td>\n      <td>115</td>\n      <td>6</td>\n      <td>South Korea</td>\n      <td>40</td>\n      <td>1502074467</td>\n      <td>392.775</td>\n      <td>288.704</td>\n      <td>1455975499</td>\n      <td>...</td>\n      <td>0</td>\n      <td>0</td>\n      <td>0</td>\n      <td>0</td>\n      <td>1</td>\n      <td>0</td>\n      <td>0</td>\n      <td>0</td>\n      <td>0</td>\n      <td>0</td>\n    </tr>\n  </tbody>\n</table>\n<p>155337 rows × 50 columns</p>\n</div>",
      "text/plain": "                         ID  submission_count  problem_solved  contribution  \\\n0         user_3311_prob_75                47              40             0   \n1       user_3311_prob_1481                47              40             0   \n2       user_3311_prob_3474                47              40             0   \n3        user_3311_prob_334                47              40             0   \n4       user_3311_prob_3508                47              40             0   \n...                     ...               ...             ...           ...   \n155332  user_2179_prob_1065               163             115             6   \n155333  user_2179_prob_3222               163             115             6   \n155334  user_2179_prob_2605               163             115             6   \n155335   user_2179_prob_186               163             115             6   \n155336  user_2179_prob_3935               163             115             6   \n\n            country  follower_count  last_online_time_seconds  max_rating  \\\n0               NaN               4                1504111645     348.337   \n1               NaN               4                1504111645     348.337   \n2               NaN               4                1504111645     348.337   \n3               NaN               4                1504111645     348.337   \n4               NaN               4                1504111645     348.337   \n...             ...             ...                       ...         ...   \n155332  South Korea              40                1502074467     392.775   \n155333  South Korea              40                1502074467     392.775   \n155334  South Korea              40                1502074467     392.775   \n155335  South Korea              40                1502074467     392.775   \n155336  South Korea              40                1502074467     392.775   \n\n         rating  registration_time_seconds  ...  e_number theory  \\\n0       330.849                 1466686436  ...                0   \n1       330.849                 1466686436  ...                0   \n2       330.849                 1466686436  ...                0   \n3       330.849                 1466686436  ...                0   \n4       330.849                 1466686436  ...                0   \n...         ...                        ...  ...              ...   \n155332  288.704                 1455975499  ...                0   \n155333  288.704                 1455975499  ...                0   \n155334  288.704                 1455975499  ...                0   \n155335  288.704                 1455975499  ...                0   \n155336  288.704                 1455975499  ...                0   \n\n       e_probabilities  e_schedules  e_shortest paths  e_sortings  \\\n0                    0            0                 0           0   \n1                    0            0                 0           0   \n2                    0            0                 0           1   \n3                    0            0                 0           0   \n4                    0            0                 0           0   \n...                ...          ...               ...         ...   \n155332               0            0                 0           0   \n155333               0            0                 0           0   \n155334               0            0                 0           0   \n155335               0            0                 0           0   \n155336               0            0                 0           1   \n\n        e_string suffix structures  e_strings  e_ternary search  e_trees  \\\n0                                0          0                 0        0   \n1                                0          0                 0        0   \n2                                0          0                 0        0   \n3                                0          0                 0        0   \n4                                0          0                 0        0   \n...                            ...        ...               ...      ...   \n155332                           0          0                 0        0   \n155333                           0          0                 0        0   \n155334                           0          0                 0        0   \n155335                           0          0                 0        0   \n155336                           0          0                 0        0   \n\n        e_two pointers  \n0                    0  \n1                    0  \n2                    0  \n3                    0  \n4                    0  \n...                ...  \n155332               0  \n155333               1  \n155334               0  \n155335               0  \n155336               0  \n\n[155337 rows x 50 columns]"
     },
     "execution_count": 47,
     "metadata": {},
     "output_type": "execute_result"
    }
   ],
   "source": [
    "res2.drop(['rank','tags'],axis=1)"
   ]
  },
  {
   "cell_type": "code",
   "execution_count": 48,
   "metadata": {},
   "outputs": [
    {
     "data": {
      "text/html": "<div>\n<style scoped>\n    .dataframe tbody tr th:only-of-type {\n        vertical-align: middle;\n    }\n\n    .dataframe tbody tr th {\n        vertical-align: top;\n    }\n\n    .dataframe thead th {\n        text-align: right;\n    }\n</style>\n<table border=\"1\" class=\"dataframe\">\n  <thead>\n    <tr style=\"text-align: right;\">\n      <th></th>\n      <th>submission_count</th>\n      <th>problem_solved</th>\n      <th>contribution</th>\n      <th>follower_count</th>\n      <th>last_online_time_seconds</th>\n      <th>max_rating</th>\n      <th>rating</th>\n      <th>registration_time_seconds</th>\n      <th>attempts_range</th>\n      <th>points</th>\n      <th>...</th>\n      <th>e_number theory</th>\n      <th>e_probabilities</th>\n      <th>e_schedules</th>\n      <th>e_shortest paths</th>\n      <th>e_sortings</th>\n      <th>e_string suffix structures</th>\n      <th>e_strings</th>\n      <th>e_ternary search</th>\n      <th>e_trees</th>\n      <th>e_two pointers</th>\n    </tr>\n  </thead>\n  <tbody>\n    <tr>\n      <td>count</td>\n      <td>155337.000000</td>\n      <td>155337.000000</td>\n      <td>155337.000000</td>\n      <td>155337.000000</td>\n      <td>1.553370e+05</td>\n      <td>155337.000000</td>\n      <td>155337.000000</td>\n      <td>1.553370e+05</td>\n      <td>155337.000000</td>\n      <td>126220.000000</td>\n      <td>...</td>\n      <td>155337.000000</td>\n      <td>155337.000000</td>\n      <td>155337.000000</td>\n      <td>155337.000000</td>\n      <td>155337.000000</td>\n      <td>155337.000000</td>\n      <td>155337.000000</td>\n      <td>155337.000000</td>\n      <td>155337.000000</td>\n      <td>155337.000000</td>\n    </tr>\n    <tr>\n      <td>mean</td>\n      <td>372.135634</td>\n      <td>335.987929</td>\n      <td>5.492233</td>\n      <td>61.047954</td>\n      <td>1.503663e+09</td>\n      <td>407.498308</td>\n      <td>368.605011</td>\n      <td>1.427526e+09</td>\n      <td>1.754823</td>\n      <td>993.302369</td>\n      <td>...</td>\n      <td>0.050670</td>\n      <td>0.009154</td>\n      <td>0.000515</td>\n      <td>0.011781</td>\n      <td>0.095946</td>\n      <td>0.002524</td>\n      <td>0.067144</td>\n      <td>0.002852</td>\n      <td>0.033894</td>\n      <td>0.028532</td>\n    </tr>\n    <tr>\n      <td>std</td>\n      <td>398.197581</td>\n      <td>377.367860</td>\n      <td>19.074261</td>\n      <td>258.964468</td>\n      <td>3.874600e+06</td>\n      <td>99.670974</td>\n      <td>112.037582</td>\n      <td>5.033909e+07</td>\n      <td>1.078376</td>\n      <td>568.115307</td>\n      <td>...</td>\n      <td>0.219325</td>\n      <td>0.095239</td>\n      <td>0.022688</td>\n      <td>0.107899</td>\n      <td>0.294518</td>\n      <td>0.050172</td>\n      <td>0.250273</td>\n      <td>0.053327</td>\n      <td>0.180957</td>\n      <td>0.166486</td>\n    </tr>\n    <tr>\n      <td>min</td>\n      <td>1.000000</td>\n      <td>0.000000</td>\n      <td>-64.000000</td>\n      <td>0.000000</td>\n      <td>1.484237e+09</td>\n      <td>303.899000</td>\n      <td>0.000000</td>\n      <td>1.264761e+09</td>\n      <td>1.000000</td>\n      <td>-1.000000</td>\n      <td>...</td>\n      <td>0.000000</td>\n      <td>0.000000</td>\n      <td>0.000000</td>\n      <td>0.000000</td>\n      <td>0.000000</td>\n      <td>0.000000</td>\n      <td>0.000000</td>\n      <td>0.000000</td>\n      <td>0.000000</td>\n      <td>0.000000</td>\n    </tr>\n    <tr>\n      <td>25%</td>\n      <td>118.000000</td>\n      <td>99.000000</td>\n      <td>0.000000</td>\n      <td>7.000000</td>\n      <td>1.504116e+09</td>\n      <td>323.394000</td>\n      <td>288.131000</td>\n      <td>1.408458e+09</td>\n      <td>1.000000</td>\n      <td>500.000000</td>\n      <td>...</td>\n      <td>0.000000</td>\n      <td>0.000000</td>\n      <td>0.000000</td>\n      <td>0.000000</td>\n      <td>0.000000</td>\n      <td>0.000000</td>\n      <td>0.000000</td>\n      <td>0.000000</td>\n      <td>0.000000</td>\n      <td>0.000000</td>\n    </tr>\n    <tr>\n      <td>50%</td>\n      <td>237.000000</td>\n      <td>209.000000</td>\n      <td>0.000000</td>\n      <td>20.000000</td>\n      <td>1.505285e+09</td>\n      <td>383.028000</td>\n      <td>356.078000</td>\n      <td>1.442860e+09</td>\n      <td>1.000000</td>\n      <td>1000.000000</td>\n      <td>...</td>\n      <td>0.000000</td>\n      <td>0.000000</td>\n      <td>0.000000</td>\n      <td>0.000000</td>\n      <td>0.000000</td>\n      <td>0.000000</td>\n      <td>0.000000</td>\n      <td>0.000000</td>\n      <td>0.000000</td>\n      <td>0.000000</td>\n    </tr>\n    <tr>\n      <td>75%</td>\n      <td>480.000000</td>\n      <td>428.000000</td>\n      <td>1.000000</td>\n      <td>52.000000</td>\n      <td>1.505560e+09</td>\n      <td>468.463000</td>\n      <td>445.814000</td>\n      <td>1.464700e+09</td>\n      <td>2.000000</td>\n      <td>1500.000000</td>\n      <td>...</td>\n      <td>0.000000</td>\n      <td>0.000000</td>\n      <td>0.000000</td>\n      <td>0.000000</td>\n      <td>0.000000</td>\n      <td>0.000000</td>\n      <td>0.000000</td>\n      <td>0.000000</td>\n      <td>0.000000</td>\n      <td>0.000000</td>\n    </tr>\n    <tr>\n      <td>max</td>\n      <td>4570.000000</td>\n      <td>4476.000000</td>\n      <td>171.000000</td>\n      <td>10575.000000</td>\n      <td>1.505595e+09</td>\n      <td>983.085000</td>\n      <td>911.124000</td>\n      <td>1.484236e+09</td>\n      <td>6.000000</td>\n      <td>5000.000000</td>\n      <td>...</td>\n      <td>1.000000</td>\n      <td>1.000000</td>\n      <td>1.000000</td>\n      <td>1.000000</td>\n      <td>1.000000</td>\n      <td>1.000000</td>\n      <td>1.000000</td>\n      <td>1.000000</td>\n      <td>1.000000</td>\n      <td>1.000000</td>\n    </tr>\n  </tbody>\n</table>\n<p>8 rows × 47 columns</p>\n</div>",
      "text/plain": "       submission_count  problem_solved   contribution  follower_count  \\\ncount     155337.000000   155337.000000  155337.000000   155337.000000   \nmean         372.135634      335.987929       5.492233       61.047954   \nstd          398.197581      377.367860      19.074261      258.964468   \nmin            1.000000        0.000000     -64.000000        0.000000   \n25%          118.000000       99.000000       0.000000        7.000000   \n50%          237.000000      209.000000       0.000000       20.000000   \n75%          480.000000      428.000000       1.000000       52.000000   \nmax         4570.000000     4476.000000     171.000000    10575.000000   \n\n       last_online_time_seconds     max_rating         rating  \\\ncount              1.553370e+05  155337.000000  155337.000000   \nmean               1.503663e+09     407.498308     368.605011   \nstd                3.874600e+06      99.670974     112.037582   \nmin                1.484237e+09     303.899000       0.000000   \n25%                1.504116e+09     323.394000     288.131000   \n50%                1.505285e+09     383.028000     356.078000   \n75%                1.505560e+09     468.463000     445.814000   \nmax                1.505595e+09     983.085000     911.124000   \n\n       registration_time_seconds  attempts_range         points  ...  \\\ncount               1.553370e+05   155337.000000  126220.000000  ...   \nmean                1.427526e+09        1.754823     993.302369  ...   \nstd                 5.033909e+07        1.078376     568.115307  ...   \nmin                 1.264761e+09        1.000000      -1.000000  ...   \n25%                 1.408458e+09        1.000000     500.000000  ...   \n50%                 1.442860e+09        1.000000    1000.000000  ...   \n75%                 1.464700e+09        2.000000    1500.000000  ...   \nmax                 1.484236e+09        6.000000    5000.000000  ...   \n\n       e_number theory  e_probabilities    e_schedules  e_shortest paths  \\\ncount    155337.000000    155337.000000  155337.000000     155337.000000   \nmean          0.050670         0.009154       0.000515          0.011781   \nstd           0.219325         0.095239       0.022688          0.107899   \nmin           0.000000         0.000000       0.000000          0.000000   \n25%           0.000000         0.000000       0.000000          0.000000   \n50%           0.000000         0.000000       0.000000          0.000000   \n75%           0.000000         0.000000       0.000000          0.000000   \nmax           1.000000         1.000000       1.000000          1.000000   \n\n          e_sortings  e_string suffix structures      e_strings  \\\ncount  155337.000000               155337.000000  155337.000000   \nmean        0.095946                    0.002524       0.067144   \nstd         0.294518                    0.050172       0.250273   \nmin         0.000000                    0.000000       0.000000   \n25%         0.000000                    0.000000       0.000000   \n50%         0.000000                    0.000000       0.000000   \n75%         0.000000                    0.000000       0.000000   \nmax         1.000000                    1.000000       1.000000   \n\n       e_ternary search        e_trees  e_two pointers  \ncount     155337.000000  155337.000000   155337.000000  \nmean           0.002852       0.033894        0.028532  \nstd            0.053327       0.180957        0.166486  \nmin            0.000000       0.000000        0.000000  \n25%            0.000000       0.000000        0.000000  \n50%            0.000000       0.000000        0.000000  \n75%            0.000000       0.000000        0.000000  \nmax            1.000000       1.000000        1.000000  \n\n[8 rows x 47 columns]"
     },
     "execution_count": 48,
     "metadata": {},
     "output_type": "execute_result"
    }
   ],
   "source": [
    "res2.describe()"
   ]
  },
  {
   "cell_type": "code",
   "execution_count": 49,
   "metadata": {},
   "outputs": [
    {
     "name": "stdout",
     "output_type": "stream",
     "text": "<class 'pandas.core.frame.DataFrame'>\nInt64Index: 155337 entries, 0 to 155336\nData columns (total 52 columns):\nID                             155295 non-null object\nsubmission_count               155337 non-null int64\nproblem_solved                 155337 non-null int64\ncontribution                   155337 non-null int64\ncountry                        117446 non-null object\nfollower_count                 155337 non-null int64\nlast_online_time_seconds       155337 non-null int64\nmax_rating                     155337 non-null float64\nrating                         155337 non-null float64\nrank                           155337 non-null object\nregistration_time_seconds      155337 non-null int64\nattempts_range                 155337 non-null float64\nlevel_type                     154675 non-null object\npoints                         126220 non-null float64\ntags                           155337 non-null object\ne_rank                         155337 non-null int64\ne_*special                     155337 non-null uint8\ne_2-sat                        155337 non-null uint8\ne_binary search                155337 non-null uint8\ne_bitmasks                     155337 non-null uint8\ne_brute force                  155337 non-null uint8\ne_chinese remainder theorem    155337 non-null uint8\ne_combinatorics                155337 non-null uint8\ne_constructive algorithms      155337 non-null uint8\ne_data structures              155337 non-null uint8\ne_dfs and similar              155337 non-null uint8\ne_divide and conquer           155337 non-null uint8\ne_dp                           155337 non-null uint8\ne_dsu                          155337 non-null uint8\ne_expression parsing           155337 non-null uint8\ne_fft                          155337 non-null uint8\ne_flows                        155337 non-null uint8\ne_games                        155337 non-null uint8\ne_geometry                     155337 non-null uint8\ne_graph matchings              155337 non-null uint8\ne_graphs                       155337 non-null uint8\ne_greedy                       155337 non-null uint8\ne_hashing                      155337 non-null uint8\ne_implementation               155337 non-null uint8\ne_math                         155337 non-null uint8\ne_matrices                     155337 non-null uint8\ne_meet-in-the-middle           155337 non-null uint8\ne_number theory                155337 non-null uint8\ne_probabilities                155337 non-null uint8\ne_schedules                    155337 non-null uint8\ne_shortest paths               155337 non-null uint8\ne_sortings                     155337 non-null uint8\ne_string suffix structures     155337 non-null uint8\ne_strings                      155337 non-null uint8\ne_ternary search               155337 non-null uint8\ne_trees                        155337 non-null uint8\ne_two pointers                 155337 non-null uint8\ndtypes: float64(4), int64(7), object(5), uint8(36)\nmemory usage: 30.5+ MB\n"
    }
   ],
   "source": [
    "res2.info()"
   ]
  },
  {
   "cell_type": "code",
   "execution_count": 50,
   "metadata": {},
   "outputs": [
    {
     "data": {
      "text/plain": "ID                                42\nsubmission_count                   0\nproblem_solved                     0\ncontribution                       0\ncountry                        37891\nfollower_count                     0\nlast_online_time_seconds           0\nmax_rating                         0\nrating                             0\nrank                               0\nregistration_time_seconds          0\nattempts_range                     0\nlevel_type                       662\npoints                         29117\ntags                               0\ne_rank                             0\ne_*special                         0\ne_2-sat                            0\ne_binary search                    0\ne_bitmasks                         0\ne_brute force                      0\ne_chinese remainder theorem        0\ne_combinatorics                    0\ne_constructive algorithms          0\ne_data structures                  0\ne_dfs and similar                  0\ne_divide and conquer               0\ne_dp                               0\ne_dsu                              0\ne_expression parsing               0\ne_fft                              0\ne_flows                            0\ne_games                            0\ne_geometry                         0\ne_graph matchings                  0\ne_graphs                           0\ne_greedy                           0\ne_hashing                          0\ne_implementation                   0\ne_math                             0\ne_matrices                         0\ne_meet-in-the-middle               0\ne_number theory                    0\ne_probabilities                    0\ne_schedules                        0\ne_shortest paths                   0\ne_sortings                         0\ne_string suffix structures         0\ne_strings                          0\ne_ternary search                   0\ne_trees                            0\ne_two pointers                     0\ndtype: int64"
     },
     "execution_count": 50,
     "metadata": {},
     "output_type": "execute_result"
    }
   ],
   "source": [
    "res2.isna().sum()"
   ]
  },
  {
   "cell_type": "code",
   "execution_count": 51,
   "metadata": {},
   "outputs": [
    {
     "data": {
      "text/html": "<div>\n<style scoped>\n    .dataframe tbody tr th:only-of-type {\n        vertical-align: middle;\n    }\n\n    .dataframe tbody tr th {\n        vertical-align: top;\n    }\n\n    .dataframe thead th {\n        text-align: right;\n    }\n</style>\n<table border=\"1\" class=\"dataframe\">\n  <thead>\n    <tr style=\"text-align: right;\">\n      <th></th>\n      <th>ID</th>\n      <th>submission_count</th>\n      <th>problem_solved</th>\n      <th>contribution</th>\n      <th>country</th>\n      <th>follower_count</th>\n      <th>last_online_time_seconds</th>\n      <th>max_rating</th>\n      <th>rating</th>\n      <th>rank</th>\n      <th>...</th>\n      <th>e_number theory</th>\n      <th>e_probabilities</th>\n      <th>e_schedules</th>\n      <th>e_shortest paths</th>\n      <th>e_sortings</th>\n      <th>e_string suffix structures</th>\n      <th>e_strings</th>\n      <th>e_ternary search</th>\n      <th>e_trees</th>\n      <th>e_two pointers</th>\n    </tr>\n  </thead>\n  <tbody>\n    <tr>\n      <td>0</td>\n      <td>user_3311_prob_75</td>\n      <td>47</td>\n      <td>40</td>\n      <td>0</td>\n      <td>NaN</td>\n      <td>4</td>\n      <td>1504111645</td>\n      <td>348.337</td>\n      <td>330.849</td>\n      <td>intermediate</td>\n      <td>...</td>\n      <td>0</td>\n      <td>0</td>\n      <td>0</td>\n      <td>0</td>\n      <td>0</td>\n      <td>0</td>\n      <td>0</td>\n      <td>0</td>\n      <td>0</td>\n      <td>0</td>\n    </tr>\n    <tr>\n      <td>1</td>\n      <td>user_3311_prob_1481</td>\n      <td>47</td>\n      <td>40</td>\n      <td>0</td>\n      <td>NaN</td>\n      <td>4</td>\n      <td>1504111645</td>\n      <td>348.337</td>\n      <td>330.849</td>\n      <td>intermediate</td>\n      <td>...</td>\n      <td>0</td>\n      <td>0</td>\n      <td>0</td>\n      <td>0</td>\n      <td>0</td>\n      <td>0</td>\n      <td>0</td>\n      <td>0</td>\n      <td>0</td>\n      <td>0</td>\n    </tr>\n    <tr>\n      <td>2</td>\n      <td>user_3311_prob_3474</td>\n      <td>47</td>\n      <td>40</td>\n      <td>0</td>\n      <td>NaN</td>\n      <td>4</td>\n      <td>1504111645</td>\n      <td>348.337</td>\n      <td>330.849</td>\n      <td>intermediate</td>\n      <td>...</td>\n      <td>0</td>\n      <td>0</td>\n      <td>0</td>\n      <td>0</td>\n      <td>1</td>\n      <td>0</td>\n      <td>0</td>\n      <td>0</td>\n      <td>0</td>\n      <td>0</td>\n    </tr>\n    <tr>\n      <td>3</td>\n      <td>user_3311_prob_334</td>\n      <td>47</td>\n      <td>40</td>\n      <td>0</td>\n      <td>NaN</td>\n      <td>4</td>\n      <td>1504111645</td>\n      <td>348.337</td>\n      <td>330.849</td>\n      <td>intermediate</td>\n      <td>...</td>\n      <td>0</td>\n      <td>0</td>\n      <td>0</td>\n      <td>0</td>\n      <td>0</td>\n      <td>0</td>\n      <td>0</td>\n      <td>0</td>\n      <td>0</td>\n      <td>0</td>\n    </tr>\n    <tr>\n      <td>4</td>\n      <td>user_3311_prob_3508</td>\n      <td>47</td>\n      <td>40</td>\n      <td>0</td>\n      <td>NaN</td>\n      <td>4</td>\n      <td>1504111645</td>\n      <td>348.337</td>\n      <td>330.849</td>\n      <td>intermediate</td>\n      <td>...</td>\n      <td>0</td>\n      <td>0</td>\n      <td>0</td>\n      <td>0</td>\n      <td>0</td>\n      <td>0</td>\n      <td>0</td>\n      <td>0</td>\n      <td>0</td>\n      <td>0</td>\n    </tr>\n  </tbody>\n</table>\n<p>5 rows × 52 columns</p>\n</div>",
      "text/plain": "                    ID  submission_count  problem_solved  contribution  \\\n0    user_3311_prob_75                47              40             0   \n1  user_3311_prob_1481                47              40             0   \n2  user_3311_prob_3474                47              40             0   \n3   user_3311_prob_334                47              40             0   \n4  user_3311_prob_3508                47              40             0   \n\n  country  follower_count  last_online_time_seconds  max_rating   rating  \\\n0     NaN               4                1504111645     348.337  330.849   \n1     NaN               4                1504111645     348.337  330.849   \n2     NaN               4                1504111645     348.337  330.849   \n3     NaN               4                1504111645     348.337  330.849   \n4     NaN               4                1504111645     348.337  330.849   \n\n           rank  ...  e_number theory  e_probabilities e_schedules  \\\n0  intermediate  ...                0                0           0   \n1  intermediate  ...                0                0           0   \n2  intermediate  ...                0                0           0   \n3  intermediate  ...                0                0           0   \n4  intermediate  ...                0                0           0   \n\n   e_shortest paths e_sortings  e_string suffix structures  e_strings  \\\n0                 0          0                           0          0   \n1                 0          0                           0          0   \n2                 0          1                           0          0   \n3                 0          0                           0          0   \n4                 0          0                           0          0   \n\n   e_ternary search  e_trees  e_two pointers  \n0                 0        0               0  \n1                 0        0               0  \n2                 0        0               0  \n3                 0        0               0  \n4                 0        0               0  \n\n[5 rows x 52 columns]"
     },
     "execution_count": 51,
     "metadata": {},
     "output_type": "execute_result"
    }
   ],
   "source": [
    "res2.head()"
   ]
  },
  {
   "cell_type": "code",
   "execution_count": null,
   "metadata": {},
   "outputs": [],
   "source": []
  },
  {
   "cell_type": "code",
   "execution_count": 52,
   "metadata": {},
   "outputs": [],
   "source": [
    "res2.drop(['rank'],axis=1,inplace=True)"
   ]
  },
  {
   "cell_type": "code",
   "execution_count": null,
   "metadata": {},
   "outputs": [],
   "source": []
  },
  {
   "cell_type": "code",
   "execution_count": 53,
   "metadata": {},
   "outputs": [],
   "source": [
    "res2.fillna(method=\"bfill\",inplace=True)"
   ]
  },
  {
   "cell_type": "code",
   "execution_count": 54,
   "metadata": {},
   "outputs": [],
   "source": [
    "res2.drop(['country'],axis=1,inplace=True)"
   ]
  },
  {
   "cell_type": "code",
   "execution_count": 55,
   "metadata": {},
   "outputs": [],
   "source": [
    "res2['level_type'] = df['level_type'].map({\"A\":0,\"B\":1,\"C\":2,\"D\":3,\"E\":4,\"F\":5,\"G\":6,\"H\":7,\"I\":8,\"K\":9,\"L\":10,\"M\":11,\"N\":12})"
   ]
  },
  {
   "cell_type": "code",
   "execution_count": 56,
   "metadata": {},
   "outputs": [],
   "source": [
    "res2['level_type'].fillna(0,inplace=True)"
   ]
  },
  {
   "cell_type": "code",
   "execution_count": 57,
   "metadata": {},
   "outputs": [
    {
     "data": {
      "text/plain": "0         0\n1         1\n2         1\n3         0\n4         0\n         ..\n155332    2\n155333    2\n155334    0\n155335    3\n155336    2\nName: level_type, Length: 155337, dtype: int64"
     },
     "execution_count": 57,
     "metadata": {},
     "output_type": "execute_result"
    }
   ],
   "source": [
    "res2['level_type'].astype(int)"
   ]
  },
  {
   "cell_type": "code",
   "execution_count": 58,
   "metadata": {},
   "outputs": [],
   "source": [
    "res2.drop(['tags'],axis=1,inplace=True)"
   ]
  },
  {
   "cell_type": "code",
   "execution_count": 59,
   "metadata": {},
   "outputs": [],
   "source": [
    "y = res2.attempts_range.values"
   ]
  },
  {
   "cell_type": "code",
   "execution_count": 60,
   "metadata": {},
   "outputs": [],
   "source": [
    "x = res2.drop(['attempts_range'],axis=1).values"
   ]
  },
  {
   "cell_type": "code",
   "execution_count": 61,
   "metadata": {},
   "outputs": [],
   "source": [
    " from sklearn.ensemble import RandomForestRegressor\n",
    "model = RandomForestRegressor(n_estimators = 100, oob_score = True, n_jobs = -1,max_features = \"auto\", min_samples_leaf = 10)"
   ]
  },
  {
   "cell_type": "code",
   "execution_count": 62,
   "metadata": {},
   "outputs": [],
   "source": [
    "from sklearn.model_selection import train_test_split \n",
    "x_train,x_test,y_train,y_test = train_test_split(x,y,test_size=0.3)"
   ]
  },
  {
   "cell_type": "code",
   "execution_count": 64,
   "metadata": {},
   "outputs": [],
   "source": [
    "# model.fit(x_train,y_train)"
   ]
  },
  {
   "cell_type": "code",
   "execution_count": 65,
   "metadata": {},
   "outputs": [
    {
     "name": "stdout",
     "output_type": "stream",
     "text": "<class 'pandas.core.frame.DataFrame'>\nInt64Index: 155337 entries, 0 to 155336\nData columns (total 49 columns):\nID                             155337 non-null object\nsubmission_count               155337 non-null int64\nproblem_solved                 155337 non-null int64\ncontribution                   155337 non-null int64\nfollower_count                 155337 non-null int64\nlast_online_time_seconds       155337 non-null int64\nmax_rating                     155337 non-null float64\nrating                         155337 non-null float64\nregistration_time_seconds      155337 non-null int64\nattempts_range                 155337 non-null float64\nlevel_type                     155337 non-null float64\npoints                         155337 non-null float64\ne_rank                         155337 non-null int64\ne_*special                     155337 non-null uint8\ne_2-sat                        155337 non-null uint8\ne_binary search                155337 non-null uint8\ne_bitmasks                     155337 non-null uint8\ne_brute force                  155337 non-null uint8\ne_chinese remainder theorem    155337 non-null uint8\ne_combinatorics                155337 non-null uint8\ne_constructive algorithms      155337 non-null uint8\ne_data structures              155337 non-null uint8\ne_dfs and similar              155337 non-null uint8\ne_divide and conquer           155337 non-null uint8\ne_dp                           155337 non-null uint8\ne_dsu                          155337 non-null uint8\ne_expression parsing           155337 non-null uint8\ne_fft                          155337 non-null uint8\ne_flows                        155337 non-null uint8\ne_games                        155337 non-null uint8\ne_geometry                     155337 non-null uint8\ne_graph matchings              155337 non-null uint8\ne_graphs                       155337 non-null uint8\ne_greedy                       155337 non-null uint8\ne_hashing                      155337 non-null uint8\ne_implementation               155337 non-null uint8\ne_math                         155337 non-null uint8\ne_matrices                     155337 non-null uint8\ne_meet-in-the-middle           155337 non-null uint8\ne_number theory                155337 non-null uint8\ne_probabilities                155337 non-null uint8\ne_schedules                    155337 non-null uint8\ne_shortest paths               155337 non-null uint8\ne_sortings                     155337 non-null uint8\ne_string suffix structures     155337 non-null uint8\ne_strings                      155337 non-null uint8\ne_ternary search               155337 non-null uint8\ne_trees                        155337 non-null uint8\ne_two pointers                 155337 non-null uint8\ndtypes: float64(5), int64(7), object(1), uint8(36)\nmemory usage: 26.9+ MB\n"
    }
   ],
   "source": [
    "res2.info()"
   ]
  },
  {
   "cell_type": "code",
   "execution_count": 68,
   "metadata": {},
   "outputs": [],
   "source": [
    "y_pred = (model.predict(x_test))"
   ]
  },
  {
   "cell_type": "code",
   "execution_count": null,
   "metadata": {},
   "outputs": [],
   "source": []
  },
  {
   "cell_type": "code",
   "execution_count": 69,
   "metadata": {},
   "outputs": [
    {
     "data": {
      "text/plain": [
       "array([1.63116227, 1.78381464, 1.46148755, ..., 1.52256853, 1.38817602,\n",
       "       1.98391923])"
      ]
     },
     "execution_count": 69,
     "metadata": {},
     "output_type": "execute_result"
    }
   ],
   "source": [
    "y_pred"
   ]
  },
  {
   "cell_type": "code",
   "execution_count": 70,
   "metadata": {},
   "outputs": [
    {
     "data": {
      "text/plain": [
       "array([5., 1., 1., ..., 1., 1., 1.])"
      ]
     },
     "execution_count": 70,
     "metadata": {},
     "output_type": "execute_result"
    }
   ],
   "source": [
    "y_test"
   ]
  },
  {
   "cell_type": "code",
   "execution_count": 71,
   "metadata": {},
   "outputs": [],
   "source": [
    "dataframe = pd.DataFrame(dft)"
   ]
  },
  {
   "cell_type": "code",
   "execution_count": 75,
   "metadata": {},
   "outputs": [
    {
     "data": {
      "text/plain": [
       "(46602,)"
      ]
     },
     "execution_count": 75,
     "metadata": {},
     "output_type": "execute_result"
    }
   ],
   "source": []
  },
  {
   "cell_type": "code",
   "execution_count": 76,
   "metadata": {},
   "outputs": [
    {
     "data": {
      "text/plain": [
       "(46602,)"
      ]
     },
     "execution_count": 76,
     "metadata": {},
     "output_type": "execute_result"
    }
   ],
   "source": []
  },
  {
   "cell_type": "code",
   "execution_count": 370,
   "metadata": {},
   "outputs": [
    {
     "name": "stderr",
     "output_type": "stream",
     "text": [
      "/home/harsh/anaconda3/lib/python3.7/site-packages/ipykernel_launcher.py:1: FutureWarning: The signature of `Series.to_csv` was aligned to that of `DataFrame.to_csv`, and argument 'header' will change its default value from False to True: please pass an explicit value to suppress this warning.\n",
      "  \"\"\"Entry point for launching an IPython kernel.\n"
     ]
    }
   ],
   "source": [
    "dft.to_csv(\"First_Submission.csv\",index=False)"
   ]
  },
  {
   "cell_type": "code",
   "execution_count": 66,
   "metadata": {},
   "outputs": [],
   "source": [
    "# dataframe['attempts_range']=y_pred"
   ]
  },
  {
   "cell_type": "code",
   "execution_count": 373,
   "metadata": {},
   "outputs": [
    {
     "data": {
      "text/plain": [
       "0      user_3311_prob_75\n",
       "1    user_3311_prob_1481\n",
       "2    user_3311_prob_3474\n",
       "3     user_3311_prob_334\n",
       "4    user_3311_prob_3508\n",
       "Name: ID, dtype: object"
      ]
     },
     "execution_count": 373,
     "metadata": {},
     "output_type": "execute_result"
    }
   ],
   "source": []
  },
  {
   "cell_type": "code",
   "execution_count": null,
   "metadata": {},
   "outputs": [],
   "source": []
  },
  {
   "cell_type": "code",
   "execution_count": null,
   "metadata": {},
   "outputs": [],
   "source": []
  },
  {
   "cell_type": "code",
   "execution_count": null,
   "metadata": {},
   "outputs": [],
   "source": []
  },
  {
   "cell_type": "code",
   "execution_count": null,
   "metadata": {},
   "outputs": [],
   "source": []
  }
 ],
 "metadata": {
  "kernelspec": {
   "display_name": "Python 3",
   "language": "python",
   "name": "python3"
  },
  "language_info": {
   "codemirror_mode": {
    "name": "ipython",
    "version": 3
   },
   "file_extension": ".py",
   "mimetype": "text/x-python",
   "name": "python",
   "nbconvert_exporter": "python",
   "pygments_lexer": "ipython3",
   "version": "3.7.4-final"
  }
 },
 "nbformat": 4,
 "nbformat_minor": 2
}